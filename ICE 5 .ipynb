{
 "cells": [
  {
   "cell_type": "markdown",
   "id": "b71314c5",
   "metadata": {},
   "source": [
    "## ICE 5\n",
    "In this ice, you will learn: \n",
    "\n",
    "- Use k- mean algorithm to create clusters. \n",
    "- create a silhouette plot to evaluate the number of clusters"
   ]
  },
  {
   "cell_type": "markdown",
   "id": "964e786f",
   "metadata": {},
   "source": [
    "Unsupervised learning is a way that the computer will find a (hidden) pattern of unlabelled data that human eyes may not recgonize. "
   ]
  },
  {
   "cell_type": "markdown",
   "id": "47d50975",
   "metadata": {},
   "source": [
    "### Unsupervised Learning Example: Anomaly Detection¶\n",
    "For instance, the construction of a commercial airliner involves millions of mechanical parts. Each part of the aircraft will have a degree of error in length, weight, or performance due to simple variation in quality control — all pieces meeting a minimum standard, but not perfect. Even though all parts individually may work without perceivable error, in a complex machine like an aircraft, the accumulated error may be catastrophic. Traditionally, technicians must manually conduct multiple systemic evaluations of the plane, which cost tremendous amounts of time and money. Using an unsupervised approach, such as Anomaly Detection, and data regarding the quality of each part, an algorithm can holistically assess the amount of accumulated error and determine to what extent the accumulated errors affect the quality of the plane’s airworthiness, before the plane even leaves the warehouse.\n",
    "\n",
    "From this example, we can see unsupervised learning has a couple of advantages:\n",
    "\n",
    "- It is cost-efficient because it does not require labeling: We don't need to tell the algorithm what is a problematic aircraft and what is not.\n",
    "- It can help us to gain insight into the structure of the data: We can identify some hidden relationships among mechanical parts that might not be obvious to human eyes.\n",
    "- It can help us identify interesting cases in a complex data structure."
   ]
  },
  {
   "cell_type": "markdown",
   "id": "7cae914e",
   "metadata": {},
   "source": [
    "### Clustering and K-means"
   ]
  },
  {
   "cell_type": "markdown",
   "id": "e8525411",
   "metadata": {},
   "source": [
    "Anomaly detection is relatively less-frequently used in the educational world. So, here we will move on to a more common algorithm: clustering. Clustering algorithms seek to learn, from the properties of the data, an optimal division or discrete labeling of groups of points.Many clustering algorithms are available in sklearn and elsewhere, but perhaps the simplest to understand is an algorithm known as k-means clustering, which is implemented in sklearn.cluster.KMeans.\n",
    "\n"
   ]
  },
  {
   "cell_type": "markdown",
   "id": "366606cf",
   "metadata": {},
   "source": [
    "The k-means algorithm searches for a pre-determined number of clusters within an unlabeled multidimensional dataset. It accomplishes this using a simple conception of what the optimal clustering looks like:\n",
    "\n",
    "- The \"cluster center\" is the arithmetic mean of all the points belonging to the cluster.\n",
    "- Each point is closer to its own cluster center than to other cluster centers.\n"
   ]
  },
  {
   "cell_type": "markdown",
   "id": "311b755a",
   "metadata": {},
   "source": [
    "Those two assumptions are the basis of the k-means model. We will soon dive into exactly how the algorithm reaches this solution, but for now let's take a look at a simple dataset and see the k-means result.\n",
    "\n"
   ]
  },
  {
   "cell_type": "markdown",
   "id": "c90f3219",
   "metadata": {},
   "source": [
    "First, let's begin with the standard imports. And then generate a two-dimensional dataset containing four distinct groups by make_blobs for demonstration purposes. We will leave the labels out of the visualization."
   ]
  },
  {
   "cell_type": "code",
   "execution_count": 1,
   "id": "5c4f06b6",
   "metadata": {},
   "outputs": [],
   "source": [
    "import matplotlib.pyplot as plt\n",
    "import numpy as np\n",
    "import pandas as pd"
   ]
  },
  {
   "cell_type": "markdown",
   "id": "e2f70f4d",
   "metadata": {},
   "source": [
    "Next, let's simulate some data on a two-dimensional plane with make_blobs. This function will return two things, (a) a set of data and (b) the true labels for each observation. We are going to store them in two variables: twoDData and cluster_true."
   ]
  },
  {
   "cell_type": "code",
   "execution_count": 2,
   "id": "46e7f48d",
   "metadata": {},
   "outputs": [
    {
     "name": "stdout",
     "output_type": "stream",
     "text": [
      "Here are the first 10 rows of twoDData:\n",
      "[[ 1.03992529  1.92991009]\n",
      " [-1.38609104  7.48059603]\n",
      " [ 1.12538917  4.96698028]\n",
      " [-1.05688956  7.81833888]\n",
      " [ 1.4020041   1.726729  ]\n",
      " [ 3.20722587  0.36765575]\n",
      " [-1.76133611  1.81716162]\n",
      " [ 1.34081536  4.36827878]\n",
      " [-0.37881944  8.33265721]\n",
      " [-0.80062564  8.52294205]]\n",
      "Here are the true labels for each observation. But we don't need it.\n",
      "[1 3 0 3 1 1 2 0 3 3]\n"
     ]
    }
   ],
   "source": [
    "from sklearn.datasets import make_blobs # import make_blobs to help us simulate some data\n",
    "\n",
    "twoDData, cluster_true = make_blobs(n_samples=300, centers=4,\n",
    "                       cluster_std=0.50, random_state=0)\n",
    "\n",
    "print(\"Here are the first 10 rows of twoDData:\")\n",
    "print(twoDData[:10])\n",
    "print(\"Here are the true labels for each observation. But we don't need it.\")\n",
    "print(cluster_true[:10])"
   ]
  },
  {
   "cell_type": "code",
   "execution_count": 3,
   "id": "dc1e48ea",
   "metadata": {},
   "outputs": [
    {
     "data": {
      "image/png": "[encoded data removed]",
      "text/plain": [
       "<Figure size 432x288 with 1 Axes>"
      ]
     },
     "metadata": {
      "needs_background": "light"
     },
     "output_type": "display_data"
    }
   ],
   "source": [
    "plt.scatter(twoDData[:, 0], twoDData[:, 1]);"
   ]
  },
  {
   "cell_type": "markdown",
   "id": "34ced4d9",
   "metadata": {},
   "source": [
    "[ : , 0 ] means (more or less) [ first_row:last_row , column_0 ]. If you have a 2-dimensional list/matrix/array, this notation will give you all the values in column 0 (from all rows)."
   ]
  },
  {
   "cell_type": "markdown",
   "id": "67aed1e6",
   "metadata": {},
   "source": [
    "By eye, it is relatively easy to pick out the four clusters. The k-means algorithm does this automatically through sklearn.\n",
    "\n"
   ]
  },
  {
   "cell_type": "code",
   "execution_count": 4,
   "id": "783fd26d",
   "metadata": {},
   "outputs": [],
   "source": [
    "from sklearn.cluster import KMeans"
   ]
  },
  {
   "cell_type": "markdown",
   "id": "3d11463e",
   "metadata": {},
   "source": [
    "KMeans() is fairly straight-forward. We need to:\n",
    "\n",
    "- Initialize the model by telling KMeans() the number of k.\n",
    "- Feed the data to the model.\n",
    "- Call predict() and use the data to get the clustering result.\n",
    "\n",
    "Note. In some tutorials, you might find KMeans() use a extra parameter called random_state. It is used for seeding. You can use any number."
   ]
  },
  {
   "cell_type": "code",
   "execution_count": 5,
   "id": "9bcaa810",
   "metadata": {},
   "outputs": [],
   "source": [
    "kmeans = KMeans(n_clusters=4)\n",
    "kmeans.fit(twoDData)\n",
    "cluster_kmeans = kmeans.predict(twoDData)"
   ]
  },
  {
   "cell_type": "markdown",
   "id": "f1837a46",
   "metadata": {},
   "source": [
    "Let's visualize the results by plotting the data colored by these labels. We will also plot the cluster centers as determined by the k-means estimator:"
   ]
  },
  {
   "cell_type": "code",
   "execution_count": 6,
   "id": "8f362dcc",
   "metadata": {},
   "outputs": [
    {
     "data": {
      "image/png": "[encoded data removed]",
      "text/plain": [
       "<Figure size 432x288 with 1 Axes>"
      ]
     },
     "metadata": {
      "needs_background": "light"
     },
     "output_type": "display_data"
    }
   ],
   "source": [
    "plt.scatter(twoDData[:, 0], twoDData[:, 1], c=cluster_kmeans, cmap='viridis') # Use cluster_means as the indicator for clusters\n",
    "\n",
    "centers = kmeans.cluster_centers_\n",
    "\n",
    "plt.scatter(centers[:, 0], centers[:, 1], c='black', s=200, alpha=0.5); # plotting the centers onto scatter plot\n",
    "                                                                        # c is for color, s is for dot size, and alpha is for transparency"
   ]
  },
  {
   "cell_type": "markdown",
   "id": "abce1e8a",
   "metadata": {},
   "source": [
    "The good news is that the k-means algorithm (at least in this simple case) assigns the points to clusters very similarly to how we might assign them by eye. For more intuitions about k-means and more theoretical foundations for k-means, feel free to check out these. They are all very similar. So feel free to watch any of them.\n",
    "\n",
    "- Victor Lavrenko: K-Means clustering: How it works\n",
    "\n",
    "- Clustering | KMeans Algorithm — Machine Learning | Andrew Ng\n",
    "\n",
    "- StatQuest: K-means clustering"
   ]
  },
  {
   "cell_type": "markdown",
   "id": "69684d08",
   "metadata": {},
   "source": [
    "### Silhoutte Coefficient and Silhoutte Plot"
   ]
  },
  {
   "cell_type": "markdown",
   "id": "41a4825f",
   "metadata": {},
   "source": [
    "The Silhouette Coefficient is used when the ground-truth about the dataset is unknown and computes the density of clusters computed by the model. The Silhouette Coefficient is calculated using the mean intra-cluster distance (a) and the mean nearest-cluster distance (b) for all samples. The Silhouette Coefficient for a sample is  \n",
    "(b−a)/max(a,b). To clarify, b is the distance between a sample and the nearest cluster that the sample is not a part of. Note that Silhouette Coefficient is only defined if number of labels is 2 <= n_labels <= n_samples - 1.\n",
    "\n"
   ]
  },
  {
   "cell_type": "markdown",
   "id": "87c412f1",
   "metadata": {},
   "source": [
    "This process produces a score between 1 and -1, where 1 is highly dense clusters and -1 is completely incorrect clustering.\n",
    "\n"
   ]
  },
  {
   "cell_type": "markdown",
   "id": "e31e51a9",
   "metadata": {},
   "source": [
    "From sklearn.metrics, we can call silhouette_score. This function returns the mean Silhouette Coefficient over all samples. To obtain the values for each sample, use silhouette_samples."
   ]
  },
  {
   "cell_type": "code",
   "execution_count": 7,
   "id": "e72618b3",
   "metadata": {},
   "outputs": [
    {
     "name": "stdout",
     "output_type": "stream",
     "text": [
      "Silhouetter Score: 0.7356713838266389\n"
     ]
    }
   ],
   "source": [
    "from sklearn.metrics import silhouette_score\n",
    "\n",
    "silhouetteScore = silhouette_score(twoDData, cluster_kmeans, metric='euclidean')\n",
    "\n",
    "# Print the score\n",
    "print('Silhouetter Score:', silhouetteScore)"
   ]
  },
  {
   "cell_type": "markdown",
   "id": "edddacaa",
   "metadata": {},
   "source": [
    "Silhouetter Score: 0.7356713838266389"
   ]
  },
  {
   "cell_type": "markdown",
   "id": "d07edaed",
   "metadata": {},
   "source": [
    "If you want to obtain the silhouette plot. The quickest way to do is through the Silhouette Visualizer, which displays the silhouette coefficient for each sample on a per-cluster basis, visualizing which clusters are dense and which are not. This is particularly useful for determining cluster imbalance, or for selecting a value for K by comparing multiple visualizers.\n",
    "\n"
   ]
  },
  {
   "cell_type": "markdown",
   "id": "ae23340a",
   "metadata": {},
   "source": [
    "This requires yellowbrick package that is not pre-installed in Anaconda."
   ]
  },
  {
   "cell_type": "markdown",
   "id": "b789f093",
   "metadata": {},
   "source": [
    "You will use this conda install -c districtdatalabs yellowbrick."
   ]
  },
  {
   "cell_type": "markdown",
   "id": "006c84a1",
   "metadata": {},
   "source": [
    "If you don't want to install yellowbrick, you can follow this tutorial to display the silhouette plot with sklearn by hand: https://scikit-learn.org/stable/auto_examples/cluster/plot_kmeans_silhouette_analysis.html"
   ]
  },
  {
   "cell_type": "code",
   "execution_count": 8,
   "id": "f9a1d437",
   "metadata": {},
   "outputs": [],
   "source": [
    "from yellowbrick.cluster import SilhouetteVisualizer"
   ]
  },
  {
   "cell_type": "code",
   "execution_count": 9,
   "id": "ed574dee",
   "metadata": {},
   "outputs": [],
   "source": [
    "smodel = KMeans(n_clusters=4)\n",
    "visualizer = SilhouetteVisualizer(smodel, colors='yellowbrick')"
   ]
  },
  {
   "cell_type": "code",
   "execution_count": 10,
   "id": "699b4e8a",
   "metadata": {},
   "outputs": [
    {
     "data": {
      "image/png": "[encoded data removed]",
      "text/plain": [
       "<Figure size 576x396 with 1 Axes>"
      ]
     },
     "metadata": {},
     "output_type": "display_data"
    },
    {
     "data": {
      "text/plain": [
       "<AxesSubplot:title={'center':'Silhouette Plot of KMeans Clustering for 300 Samples in 4 Centers'}, xlabel='silhouette coefficient values', ylabel='cluster label'>"
      ]
     },
     "execution_count": 10,
     "metadata": {},
     "output_type": "execute_result"
    }
   ],
   "source": [
    "visualizer.fit(twoDData) # Fit the data to the visualizer\n",
    "visualizer.show() # Finalize and render the figure.\n",
    "## These two lines needs to be run at the same time otherwise, you won't have the labels in x,y axies."
   ]
  },
  {
   "cell_type": "code",
   "execution_count": 11,
   "id": "f5ff124c",
   "metadata": {},
   "outputs": [
    {
     "data": {
      "image/png": "[encoded data removed]",
      "text/plain": [
       "<Figure size 576x396 with 1 Axes>"
      ]
     },
     "metadata": {},
     "output_type": "display_data"
    },
    {
     "name": "stderr",
     "output_type": "stream",
     "text": [
      "/Users/mark/opt/anaconda3/lib/python3.8/site-packages/sklearn/base.py:209: FutureWarning: From version 0.24, get_params will raise an AttributeError if a parameter cannot be retrieved as an instance attribute. Previously it would return None.\n",
      "  warnings.warn('From version 0.24, get_params will raise an '\n"
     ]
    },
    {
     "data": {
      "text/plain": [
       "SilhouetteVisualizer(ax=<AxesSubplot:title={'center':'Silhouette Plot of KMeans Clustering for 300 Samples in 4 Centers'}, xlabel='silhouette coefficient values', ylabel='cluster label'>,\n",
       "                     colors='yellowbrick', model=None)"
      ]
     },
     "execution_count": 11,
     "metadata": {},
     "output_type": "execute_result"
    }
   ],
   "source": [
    "from yellowbrick.cluster import silhouette_visualizer\n",
    "silhouette_visualizer(kmeans, twoDData, colors='yellowbrick')"
   ]
  },
  {
   "cell_type": "markdown",
   "id": "e0f0c886",
   "metadata": {},
   "source": [
    "### Clustering with k-Means: Self-Reported Motivation\n"
   ]
  },
  {
   "cell_type": "markdown",
   "id": "9b283897",
   "metadata": {},
   "source": [
    "We will be looking at a more realistic example of students' self-reported motivaiton. The data contains some self-reported motivation scores for a class over five weeks. We are going to look for patterns in motivation over this time and sort people into clusters based on those patterns."
   ]
  },
  {
   "cell_type": "code",
   "execution_count": 12,
   "id": "98446397",
   "metadata": {},
   "outputs": [
    {
     "data": {
      "text/html": [
       "<div>\n",
       "<style scoped>\n",
       "    .dataframe tbody tr th:only-of-type {\n",
       "        vertical-align: middle;\n",
       "    }\n",
       "\n",
       "    .dataframe tbody tr th {\n",
       "        vertical-align: top;\n",
       "    }\n",
       "\n",
       "    .dataframe thead th {\n",
       "        text-align: right;\n",
       "    }\n",
       "</style>\n",
       "<table border=\"1\" class=\"dataframe\">\n",
       "  <thead>\n",
       "    <tr style=\"text-align: right;\">\n",
       "      <th></th>\n",
       "      <th>id</th>\n",
       "      <th>motivation1</th>\n",
       "      <th>motivation2</th>\n",
       "      <th>motivation3</th>\n",
       "      <th>motivation4</th>\n",
       "      <th>motivation5</th>\n",
       "    </tr>\n",
       "  </thead>\n",
       "  <tbody>\n",
       "    <tr>\n",
       "      <th>0</th>\n",
       "      <td>10005216</td>\n",
       "      <td>2</td>\n",
       "      <td>2.0</td>\n",
       "      <td>2</td>\n",
       "      <td>2.0</td>\n",
       "      <td>2.0</td>\n",
       "    </tr>\n",
       "    <tr>\n",
       "      <th>1</th>\n",
       "      <td>10033216</td>\n",
       "      <td>3</td>\n",
       "      <td>NaN</td>\n",
       "      <td>3</td>\n",
       "      <td>NaN</td>\n",
       "      <td>NaN</td>\n",
       "    </tr>\n",
       "    <tr>\n",
       "      <th>2</th>\n",
       "      <td>10004216</td>\n",
       "      <td>1</td>\n",
       "      <td>2.0</td>\n",
       "      <td>1</td>\n",
       "      <td>2.0</td>\n",
       "      <td>2.0</td>\n",
       "    </tr>\n",
       "    <tr>\n",
       "      <th>3</th>\n",
       "      <td>10008216</td>\n",
       "      <td>1</td>\n",
       "      <td>2.0</td>\n",
       "      <td>1</td>\n",
       "      <td>2.0</td>\n",
       "      <td>NaN</td>\n",
       "    </tr>\n",
       "    <tr>\n",
       "      <th>4</th>\n",
       "      <td>10026216</td>\n",
       "      <td>3</td>\n",
       "      <td>NaN</td>\n",
       "      <td>3</td>\n",
       "      <td>NaN</td>\n",
       "      <td>NaN</td>\n",
       "    </tr>\n",
       "    <tr>\n",
       "      <th>5</th>\n",
       "      <td>10014216</td>\n",
       "      <td>2</td>\n",
       "      <td>NaN</td>\n",
       "      <td>2</td>\n",
       "      <td>NaN</td>\n",
       "      <td>2.0</td>\n",
       "    </tr>\n",
       "    <tr>\n",
       "      <th>6</th>\n",
       "      <td>10021216</td>\n",
       "      <td>2</td>\n",
       "      <td>2.0</td>\n",
       "      <td>2</td>\n",
       "      <td>2.0</td>\n",
       "      <td>2.0</td>\n",
       "    </tr>\n",
       "    <tr>\n",
       "      <th>7</th>\n",
       "      <td>10013216</td>\n",
       "      <td>2</td>\n",
       "      <td>NaN</td>\n",
       "      <td>2</td>\n",
       "      <td>NaN</td>\n",
       "      <td>1.0</td>\n",
       "    </tr>\n",
       "    <tr>\n",
       "      <th>8</th>\n",
       "      <td>10035216</td>\n",
       "      <td>2</td>\n",
       "      <td>3.0</td>\n",
       "      <td>2</td>\n",
       "      <td>3.0</td>\n",
       "      <td>NaN</td>\n",
       "    </tr>\n",
       "    <tr>\n",
       "      <th>9</th>\n",
       "      <td>10015216</td>\n",
       "      <td>2</td>\n",
       "      <td>2.0</td>\n",
       "      <td>2</td>\n",
       "      <td>2.0</td>\n",
       "      <td>2.0</td>\n",
       "    </tr>\n",
       "    <tr>\n",
       "      <th>10</th>\n",
       "      <td>10031216</td>\n",
       "      <td>1</td>\n",
       "      <td>1.0</td>\n",
       "      <td>1</td>\n",
       "      <td>1.0</td>\n",
       "      <td>NaN</td>\n",
       "    </tr>\n",
       "    <tr>\n",
       "      <th>11</th>\n",
       "      <td>10007216</td>\n",
       "      <td>2</td>\n",
       "      <td>1.0</td>\n",
       "      <td>2</td>\n",
       "      <td>1.0</td>\n",
       "      <td>2.0</td>\n",
       "    </tr>\n",
       "    <tr>\n",
       "      <th>12</th>\n",
       "      <td>10010216</td>\n",
       "      <td>2</td>\n",
       "      <td>2.0</td>\n",
       "      <td>2</td>\n",
       "      <td>2.0</td>\n",
       "      <td>NaN</td>\n",
       "    </tr>\n",
       "    <tr>\n",
       "      <th>13</th>\n",
       "      <td>10020216</td>\n",
       "      <td>2</td>\n",
       "      <td>3.0</td>\n",
       "      <td>2</td>\n",
       "      <td>3.0</td>\n",
       "      <td>1.0</td>\n",
       "    </tr>\n",
       "    <tr>\n",
       "      <th>14</th>\n",
       "      <td>10002216</td>\n",
       "      <td>1</td>\n",
       "      <td>1.0</td>\n",
       "      <td>1</td>\n",
       "      <td>1.0</td>\n",
       "      <td>4.0</td>\n",
       "    </tr>\n",
       "    <tr>\n",
       "      <th>15</th>\n",
       "      <td>10011216</td>\n",
       "      <td>2</td>\n",
       "      <td>2.0</td>\n",
       "      <td>2</td>\n",
       "      <td>2.0</td>\n",
       "      <td>NaN</td>\n",
       "    </tr>\n",
       "    <tr>\n",
       "      <th>16</th>\n",
       "      <td>10023216</td>\n",
       "      <td>1</td>\n",
       "      <td>1.0</td>\n",
       "      <td>1</td>\n",
       "      <td>1.0</td>\n",
       "      <td>3.0</td>\n",
       "    </tr>\n",
       "    <tr>\n",
       "      <th>17</th>\n",
       "      <td>10028216</td>\n",
       "      <td>1</td>\n",
       "      <td>1.0</td>\n",
       "      <td>1</td>\n",
       "      <td>1.0</td>\n",
       "      <td>1.0</td>\n",
       "    </tr>\n",
       "    <tr>\n",
       "      <th>18</th>\n",
       "      <td>10028216</td>\n",
       "      <td>1</td>\n",
       "      <td>1.0</td>\n",
       "      <td>1</td>\n",
       "      <td>1.0</td>\n",
       "      <td>1.0</td>\n",
       "    </tr>\n",
       "    <tr>\n",
       "      <th>19</th>\n",
       "      <td>10034216</td>\n",
       "      <td>3</td>\n",
       "      <td>2.0</td>\n",
       "      <td>3</td>\n",
       "      <td>2.0</td>\n",
       "      <td>2.0</td>\n",
       "    </tr>\n",
       "    <tr>\n",
       "      <th>20</th>\n",
       "      <td>10003216</td>\n",
       "      <td>2</td>\n",
       "      <td>NaN</td>\n",
       "      <td>2</td>\n",
       "      <td>NaN</td>\n",
       "      <td>NaN</td>\n",
       "    </tr>\n",
       "    <tr>\n",
       "      <th>21</th>\n",
       "      <td>10029216</td>\n",
       "      <td>2</td>\n",
       "      <td>2.0</td>\n",
       "      <td>2</td>\n",
       "      <td>2.0</td>\n",
       "      <td>5.0</td>\n",
       "    </tr>\n",
       "    <tr>\n",
       "      <th>22</th>\n",
       "      <td>10022216</td>\n",
       "      <td>1</td>\n",
       "      <td>3.0</td>\n",
       "      <td>1</td>\n",
       "      <td>3.0</td>\n",
       "      <td>NaN</td>\n",
       "    </tr>\n",
       "    <tr>\n",
       "      <th>23</th>\n",
       "      <td>10006216</td>\n",
       "      <td>1</td>\n",
       "      <td>1.0</td>\n",
       "      <td>1</td>\n",
       "      <td>1.0</td>\n",
       "      <td>NaN</td>\n",
       "    </tr>\n",
       "    <tr>\n",
       "      <th>24</th>\n",
       "      <td>10009216</td>\n",
       "      <td>1</td>\n",
       "      <td>1.0</td>\n",
       "      <td>1</td>\n",
       "      <td>1.0</td>\n",
       "      <td>2.0</td>\n",
       "    </tr>\n",
       "    <tr>\n",
       "      <th>25</th>\n",
       "      <td>10018216</td>\n",
       "      <td>1</td>\n",
       "      <td>2.0</td>\n",
       "      <td>1</td>\n",
       "      <td>2.0</td>\n",
       "      <td>4.0</td>\n",
       "    </tr>\n",
       "    <tr>\n",
       "      <th>26</th>\n",
       "      <td>10018216</td>\n",
       "      <td>1</td>\n",
       "      <td>2.0</td>\n",
       "      <td>1</td>\n",
       "      <td>2.0</td>\n",
       "      <td>3.0</td>\n",
       "    </tr>\n",
       "    <tr>\n",
       "      <th>27</th>\n",
       "      <td>10018216</td>\n",
       "      <td>1</td>\n",
       "      <td>2.0</td>\n",
       "      <td>1</td>\n",
       "      <td>2.0</td>\n",
       "      <td>4.0</td>\n",
       "    </tr>\n",
       "    <tr>\n",
       "      <th>28</th>\n",
       "      <td>10018216</td>\n",
       "      <td>1</td>\n",
       "      <td>2.0</td>\n",
       "      <td>1</td>\n",
       "      <td>2.0</td>\n",
       "      <td>3.0</td>\n",
       "    </tr>\n",
       "    <tr>\n",
       "      <th>29</th>\n",
       "      <td>10018216</td>\n",
       "      <td>1</td>\n",
       "      <td>2.0</td>\n",
       "      <td>1</td>\n",
       "      <td>2.0</td>\n",
       "      <td>4.0</td>\n",
       "    </tr>\n",
       "    <tr>\n",
       "      <th>30</th>\n",
       "      <td>10018216</td>\n",
       "      <td>1</td>\n",
       "      <td>2.0</td>\n",
       "      <td>1</td>\n",
       "      <td>2.0</td>\n",
       "      <td>3.0</td>\n",
       "    </tr>\n",
       "    <tr>\n",
       "      <th>31</th>\n",
       "      <td>10018216</td>\n",
       "      <td>1</td>\n",
       "      <td>2.0</td>\n",
       "      <td>1</td>\n",
       "      <td>2.0</td>\n",
       "      <td>4.0</td>\n",
       "    </tr>\n",
       "    <tr>\n",
       "      <th>32</th>\n",
       "      <td>10018216</td>\n",
       "      <td>1</td>\n",
       "      <td>2.0</td>\n",
       "      <td>1</td>\n",
       "      <td>2.0</td>\n",
       "      <td>3.0</td>\n",
       "    </tr>\n",
       "    <tr>\n",
       "      <th>33</th>\n",
       "      <td>10027216</td>\n",
       "      <td>1</td>\n",
       "      <td>1.0</td>\n",
       "      <td>1</td>\n",
       "      <td>1.0</td>\n",
       "      <td>1.0</td>\n",
       "    </tr>\n",
       "    <tr>\n",
       "      <th>34</th>\n",
       "      <td>10025216</td>\n",
       "      <td>2</td>\n",
       "      <td>2.0</td>\n",
       "      <td>2</td>\n",
       "      <td>2.0</td>\n",
       "      <td>2.0</td>\n",
       "    </tr>\n",
       "    <tr>\n",
       "      <th>35</th>\n",
       "      <td>10019216</td>\n",
       "      <td>1</td>\n",
       "      <td>NaN</td>\n",
       "      <td>1</td>\n",
       "      <td>NaN</td>\n",
       "      <td>NaN</td>\n",
       "    </tr>\n",
       "    <tr>\n",
       "      <th>36</th>\n",
       "      <td>10032216</td>\n",
       "      <td>3</td>\n",
       "      <td>NaN</td>\n",
       "      <td>3</td>\n",
       "      <td>NaN</td>\n",
       "      <td>NaN</td>\n",
       "    </tr>\n",
       "    <tr>\n",
       "      <th>37</th>\n",
       "      <td>10017216</td>\n",
       "      <td>3</td>\n",
       "      <td>NaN</td>\n",
       "      <td>3</td>\n",
       "      <td>NaN</td>\n",
       "      <td>3.0</td>\n",
       "    </tr>\n",
       "  </tbody>\n",
       "</table>\n",
       "</div>"
      ],
      "text/plain": [
       "          id  motivation1  motivation2  motivation3  motivation4  motivation5\n",
       "0   10005216            2          2.0            2          2.0          2.0\n",
       "1   10033216            3          NaN            3          NaN          NaN\n",
       "2   10004216            1          2.0            1          2.0          2.0\n",
       "3   10008216            1          2.0            1          2.0          NaN\n",
       "4   10026216            3          NaN            3          NaN          NaN\n",
       "5   10014216            2          NaN            2          NaN          2.0\n",
       "6   10021216            2          2.0            2          2.0          2.0\n",
       "7   10013216            2          NaN            2          NaN          1.0\n",
       "8   10035216            2          3.0            2          3.0          NaN\n",
       "9   10015216            2          2.0            2          2.0          2.0\n",
       "10  10031216            1          1.0            1          1.0          NaN\n",
       "11  10007216            2          1.0            2          1.0          2.0\n",
       "12  10010216            2          2.0            2          2.0          NaN\n",
       "13  10020216            2          3.0            2          3.0          1.0\n",
       "14  10002216            1          1.0            1          1.0          4.0\n",
       "15  10011216            2          2.0            2          2.0          NaN\n",
       "16  10023216            1          1.0            1          1.0          3.0\n",
       "17  10028216            1          1.0            1          1.0          1.0\n",
       "18  10028216            1          1.0            1          1.0          1.0\n",
       "19  10034216            3          2.0            3          2.0          2.0\n",
       "20  10003216            2          NaN            2          NaN          NaN\n",
       "21  10029216            2          2.0            2          2.0          5.0\n",
       "22  10022216            1          3.0            1          3.0          NaN\n",
       "23  10006216            1          1.0            1          1.0          NaN\n",
       "24  10009216            1          1.0            1          1.0          2.0\n",
       "25  10018216            1          2.0            1          2.0          4.0\n",
       "26  10018216            1          2.0            1          2.0          3.0\n",
       "27  10018216            1          2.0            1          2.0          4.0\n",
       "28  10018216            1          2.0            1          2.0          3.0\n",
       "29  10018216            1          2.0            1          2.0          4.0\n",
       "30  10018216            1          2.0            1          2.0          3.0\n",
       "31  10018216            1          2.0            1          2.0          4.0\n",
       "32  10018216            1          2.0            1          2.0          3.0\n",
       "33  10027216            1          1.0            1          1.0          1.0\n",
       "34  10025216            2          2.0            2          2.0          2.0\n",
       "35  10019216            1          NaN            1          NaN          NaN\n",
       "36  10032216            3          NaN            3          NaN          NaN\n",
       "37  10017216            3          NaN            3          NaN          3.0"
      ]
     },
     "execution_count": 12,
     "metadata": {},
     "output_type": "execute_result"
    }
   ],
   "source": [
    "motivation = pd.read_csv(\"ICE5_Data.csv\")\n",
    "motivation"
   ]
  },
  {
   "cell_type": "markdown",
   "id": "d6c57f91",
   "metadata": {},
   "source": [
    "We will need to manipulate the data frame into a structure that can be analyzed by our clustering algorithm.\n",
    "\n",
    "The algorithm will treat each row as a value belonging to a person, so we need to remove the id variable. And we also need to filter out all the NAs because k-Means won't work if it only sees partial data."
   ]
  },
  {
   "cell_type": "code",
   "execution_count": 13,
   "id": "9922b5c9",
   "metadata": {},
   "outputs": [
    {
     "data": {
      "text/html": [
       "<div>\n",
       "<style scoped>\n",
       "    .dataframe tbody tr th:only-of-type {\n",
       "        vertical-align: middle;\n",
       "    }\n",
       "\n",
       "    .dataframe tbody tr th {\n",
       "        vertical-align: top;\n",
       "    }\n",
       "\n",
       "    .dataframe thead th {\n",
       "        text-align: right;\n",
       "    }\n",
       "</style>\n",
       "<table border=\"1\" class=\"dataframe\">\n",
       "  <thead>\n",
       "    <tr style=\"text-align: right;\">\n",
       "      <th></th>\n",
       "      <th>motivation1</th>\n",
       "      <th>motivation2</th>\n",
       "      <th>motivation3</th>\n",
       "      <th>motivation4</th>\n",
       "      <th>motivation5</th>\n",
       "    </tr>\n",
       "  </thead>\n",
       "  <tbody>\n",
       "    <tr>\n",
       "      <th>0</th>\n",
       "      <td>2</td>\n",
       "      <td>2.0</td>\n",
       "      <td>2</td>\n",
       "      <td>2.0</td>\n",
       "      <td>2.0</td>\n",
       "    </tr>\n",
       "    <tr>\n",
       "      <th>2</th>\n",
       "      <td>1</td>\n",
       "      <td>2.0</td>\n",
       "      <td>1</td>\n",
       "      <td>2.0</td>\n",
       "      <td>2.0</td>\n",
       "    </tr>\n",
       "    <tr>\n",
       "      <th>6</th>\n",
       "      <td>2</td>\n",
       "      <td>2.0</td>\n",
       "      <td>2</td>\n",
       "      <td>2.0</td>\n",
       "      <td>2.0</td>\n",
       "    </tr>\n",
       "    <tr>\n",
       "      <th>9</th>\n",
       "      <td>2</td>\n",
       "      <td>2.0</td>\n",
       "      <td>2</td>\n",
       "      <td>2.0</td>\n",
       "      <td>2.0</td>\n",
       "    </tr>\n",
       "    <tr>\n",
       "      <th>11</th>\n",
       "      <td>2</td>\n",
       "      <td>1.0</td>\n",
       "      <td>2</td>\n",
       "      <td>1.0</td>\n",
       "      <td>2.0</td>\n",
       "    </tr>\n",
       "    <tr>\n",
       "      <th>13</th>\n",
       "      <td>2</td>\n",
       "      <td>3.0</td>\n",
       "      <td>2</td>\n",
       "      <td>3.0</td>\n",
       "      <td>1.0</td>\n",
       "    </tr>\n",
       "    <tr>\n",
       "      <th>14</th>\n",
       "      <td>1</td>\n",
       "      <td>1.0</td>\n",
       "      <td>1</td>\n",
       "      <td>1.0</td>\n",
       "      <td>4.0</td>\n",
       "    </tr>\n",
       "    <tr>\n",
       "      <th>16</th>\n",
       "      <td>1</td>\n",
       "      <td>1.0</td>\n",
       "      <td>1</td>\n",
       "      <td>1.0</td>\n",
       "      <td>3.0</td>\n",
       "    </tr>\n",
       "    <tr>\n",
       "      <th>17</th>\n",
       "      <td>1</td>\n",
       "      <td>1.0</td>\n",
       "      <td>1</td>\n",
       "      <td>1.0</td>\n",
       "      <td>1.0</td>\n",
       "    </tr>\n",
       "    <tr>\n",
       "      <th>18</th>\n",
       "      <td>1</td>\n",
       "      <td>1.0</td>\n",
       "      <td>1</td>\n",
       "      <td>1.0</td>\n",
       "      <td>1.0</td>\n",
       "    </tr>\n",
       "    <tr>\n",
       "      <th>19</th>\n",
       "      <td>3</td>\n",
       "      <td>2.0</td>\n",
       "      <td>3</td>\n",
       "      <td>2.0</td>\n",
       "      <td>2.0</td>\n",
       "    </tr>\n",
       "    <tr>\n",
       "      <th>21</th>\n",
       "      <td>2</td>\n",
       "      <td>2.0</td>\n",
       "      <td>2</td>\n",
       "      <td>2.0</td>\n",
       "      <td>5.0</td>\n",
       "    </tr>\n",
       "    <tr>\n",
       "      <th>24</th>\n",
       "      <td>1</td>\n",
       "      <td>1.0</td>\n",
       "      <td>1</td>\n",
       "      <td>1.0</td>\n",
       "      <td>2.0</td>\n",
       "    </tr>\n",
       "    <tr>\n",
       "      <th>25</th>\n",
       "      <td>1</td>\n",
       "      <td>2.0</td>\n",
       "      <td>1</td>\n",
       "      <td>2.0</td>\n",
       "      <td>4.0</td>\n",
       "    </tr>\n",
       "    <tr>\n",
       "      <th>26</th>\n",
       "      <td>1</td>\n",
       "      <td>2.0</td>\n",
       "      <td>1</td>\n",
       "      <td>2.0</td>\n",
       "      <td>3.0</td>\n",
       "    </tr>\n",
       "    <tr>\n",
       "      <th>27</th>\n",
       "      <td>1</td>\n",
       "      <td>2.0</td>\n",
       "      <td>1</td>\n",
       "      <td>2.0</td>\n",
       "      <td>4.0</td>\n",
       "    </tr>\n",
       "    <tr>\n",
       "      <th>28</th>\n",
       "      <td>1</td>\n",
       "      <td>2.0</td>\n",
       "      <td>1</td>\n",
       "      <td>2.0</td>\n",
       "      <td>3.0</td>\n",
       "    </tr>\n",
       "    <tr>\n",
       "      <th>29</th>\n",
       "      <td>1</td>\n",
       "      <td>2.0</td>\n",
       "      <td>1</td>\n",
       "      <td>2.0</td>\n",
       "      <td>4.0</td>\n",
       "    </tr>\n",
       "    <tr>\n",
       "      <th>30</th>\n",
       "      <td>1</td>\n",
       "      <td>2.0</td>\n",
       "      <td>1</td>\n",
       "      <td>2.0</td>\n",
       "      <td>3.0</td>\n",
       "    </tr>\n",
       "    <tr>\n",
       "      <th>31</th>\n",
       "      <td>1</td>\n",
       "      <td>2.0</td>\n",
       "      <td>1</td>\n",
       "      <td>2.0</td>\n",
       "      <td>4.0</td>\n",
       "    </tr>\n",
       "    <tr>\n",
       "      <th>32</th>\n",
       "      <td>1</td>\n",
       "      <td>2.0</td>\n",
       "      <td>1</td>\n",
       "      <td>2.0</td>\n",
       "      <td>3.0</td>\n",
       "    </tr>\n",
       "    <tr>\n",
       "      <th>33</th>\n",
       "      <td>1</td>\n",
       "      <td>1.0</td>\n",
       "      <td>1</td>\n",
       "      <td>1.0</td>\n",
       "      <td>1.0</td>\n",
       "    </tr>\n",
       "    <tr>\n",
       "      <th>34</th>\n",
       "      <td>2</td>\n",
       "      <td>2.0</td>\n",
       "      <td>2</td>\n",
       "      <td>2.0</td>\n",
       "      <td>2.0</td>\n",
       "    </tr>\n",
       "  </tbody>\n",
       "</table>\n",
       "</div>"
      ],
      "text/plain": [
       "    motivation1  motivation2  motivation3  motivation4  motivation5\n",
       "0             2          2.0            2          2.0          2.0\n",
       "2             1          2.0            1          2.0          2.0\n",
       "6             2          2.0            2          2.0          2.0\n",
       "9             2          2.0            2          2.0          2.0\n",
       "11            2          1.0            2          1.0          2.0\n",
       "13            2          3.0            2          3.0          1.0\n",
       "14            1          1.0            1          1.0          4.0\n",
       "16            1          1.0            1          1.0          3.0\n",
       "17            1          1.0            1          1.0          1.0\n",
       "18            1          1.0            1          1.0          1.0\n",
       "19            3          2.0            3          2.0          2.0\n",
       "21            2          2.0            2          2.0          5.0\n",
       "24            1          1.0            1          1.0          2.0\n",
       "25            1          2.0            1          2.0          4.0\n",
       "26            1          2.0            1          2.0          3.0\n",
       "27            1          2.0            1          2.0          4.0\n",
       "28            1          2.0            1          2.0          3.0\n",
       "29            1          2.0            1          2.0          4.0\n",
       "30            1          2.0            1          2.0          3.0\n",
       "31            1          2.0            1          2.0          4.0\n",
       "32            1          2.0            1          2.0          3.0\n",
       "33            1          1.0            1          1.0          1.0\n",
       "34            2          2.0            2          2.0          2.0"
      ]
     },
     "execution_count": 13,
     "metadata": {},
     "output_type": "execute_result"
    }
   ],
   "source": [
    "motivationNA = motivation.dropna()\n",
    "motivationClean = motivationNA.drop(['id'], axis = 1)\n",
    "motivationClean"
   ]
  },
  {
   "cell_type": "markdown",
   "id": "76f7522b",
   "metadata": {},
   "source": [
    "Let's fit a two-cluster model first and check out the silhouette plot as well as the coefficient."
   ]
  },
  {
   "cell_type": "code",
   "execution_count": 14,
   "id": "b542a06d",
   "metadata": {},
   "outputs": [],
   "source": [
    "# Try 2 clusters first\n",
    "motivationkmeans2 = KMeans(n_clusters=2)\n",
    "motivationkmeans2.fit(motivationClean)\n",
    "cluster_motivation2 = motivationkmeans2.predict(motivationClean)"
   ]
  },
  {
   "cell_type": "markdown",
   "id": "7ddc38ae",
   "metadata": {},
   "source": [
    "The score is 0.43 and the silhouette plot is not too bad. We can see that Cluster 0 has a lot more similarities while Cluster 1 is more heterogeneous. So we may want to increase the cluster number."
   ]
  },
  {
   "cell_type": "code",
   "execution_count": 15,
   "id": "2f9e4ae9",
   "metadata": {},
   "outputs": [
    {
     "data": {
      "image/png": "[encoded data removed]",
      "text/plain": [
       "<Figure size 576x396 with 1 Axes>"
      ]
     },
     "metadata": {},
     "output_type": "display_data"
    },
    {
     "name": "stdout",
     "output_type": "stream",
     "text": [
      "Silhouetter Score: 0.4278253443934091\n"
     ]
    }
   ],
   "source": [
    "silhouette_visualizer(motivationkmeans2, motivationClean, colors='yellowbrick')\n",
    "\n",
    "silhouetteScore2 = silhouette_score(motivationClean, cluster_motivation2, metric='euclidean')\n",
    "\n",
    "print('Silhouetter Score:', silhouetteScore2)"
   ]
  },
  {
   "cell_type": "markdown",
   "id": "ebe659f5",
   "metadata": {},
   "source": [
    "The cluster_n = 3 below seems more reasonable. The silhouette coefficient increases and all three clusters all have similar intra-cluster similarity (i.e., flat head)."
   ]
  },
  {
   "cell_type": "code",
   "execution_count": 16,
   "id": "76c8e030",
   "metadata": {},
   "outputs": [
    {
     "data": {
      "image/png": "[encoded data removed]",
      "text/plain": [
       "<Figure size 576x396 with 1 Axes>"
      ]
     },
     "metadata": {},
     "output_type": "display_data"
    },
    {
     "name": "stdout",
     "output_type": "stream",
     "text": [
      "Silhouetter Score: 0.4995840033521631\n"
     ]
    }
   ],
   "source": [
    "# Try 3 clusters\n",
    "\n",
    "motivationkmeans3 = KMeans(n_clusters=3)\n",
    "motivationkmeans3.fit(motivationClean)\n",
    "cluster_motivation3 = motivationkmeans3.predict(motivationClean)\n",
    "silhouette_visualizer(motivationkmeans3, motivationClean, colors='yellowbrick')\n",
    "silhouetteScore3 = silhouette_score(motivationClean, cluster_motivation3, metric='euclidean')\n",
    "print('Silhouetter Score:', silhouetteScore3)"
   ]
  },
  {
   "cell_type": "markdown",
   "id": "b5e346fa",
   "metadata": {},
   "source": [
    "This is the cluster_n = 4 case. Not too much different. The silhouette coefficient drops and all four clusters all still have similar intra-cluster similarity. So we will say cluster_n = 3 is a more reasonable classification."
   ]
  },
  {
   "cell_type": "code",
   "execution_count": 17,
   "id": "e05e738e",
   "metadata": {},
   "outputs": [
    {
     "data": {
      "image/png": "[encoded data removed]",
      "text/plain": [
       "<Figure size 576x396 with 1 Axes>"
      ]
     },
     "metadata": {},
     "output_type": "display_data"
    },
    {
     "name": "stdout",
     "output_type": "stream",
     "text": [
      "Silhouetter Score: 0.49488453159748896\n"
     ]
    }
   ],
   "source": [
    "# Try 4 clusters\n",
    "\n",
    "motivationkmeans4 = KMeans(n_clusters=4)\n",
    "motivationkmeans4.fit(motivationClean)\n",
    "cluster_motivation4 = motivationkmeans4.predict(motivationClean)\n",
    "silhouette_visualizer(motivationkmeans4, motivationClean, colors='yellowbrick')\n",
    "silhouetteScore4 = silhouette_score(motivationClean, cluster_motivation4, metric='euclidean')\n",
    "print('Silhouetter Score:', silhouetteScore4)"
   ]
  },
  {
   "cell_type": "markdown",
   "id": "6dd3f9d3",
   "metadata": {},
   "source": [
    "Now let's create a new dataframe to contain the clustering result. The regular = wouldn't work because motivationClean will be changed as motivation3cluster changes. For more details, read here: https://www.geeksforgeeks.org/python-pandas-dataframe-copy-function/"
   ]
  },
  {
   "cell_type": "code",
   "execution_count": 18,
   "id": "7606848e",
   "metadata": {
    "scrolled": true
   },
   "outputs": [
    {
     "data": {
      "text/html": [
       "<div>\n",
       "<style scoped>\n",
       "    .dataframe tbody tr th:only-of-type {\n",
       "        vertical-align: middle;\n",
       "    }\n",
       "\n",
       "    .dataframe tbody tr th {\n",
       "        vertical-align: top;\n",
       "    }\n",
       "\n",
       "    .dataframe thead th {\n",
       "        text-align: right;\n",
       "    }\n",
       "</style>\n",
       "<table border=\"1\" class=\"dataframe\">\n",
       "  <thead>\n",
       "    <tr style=\"text-align: right;\">\n",
       "      <th></th>\n",
       "      <th>motivation1</th>\n",
       "      <th>motivation2</th>\n",
       "      <th>motivation3</th>\n",
       "      <th>motivation4</th>\n",
       "      <th>motivation5</th>\n",
       "      <th>cluster</th>\n",
       "    </tr>\n",
       "  </thead>\n",
       "  <tbody>\n",
       "    <tr>\n",
       "      <th>0</th>\n",
       "      <td>2</td>\n",
       "      <td>2.0</td>\n",
       "      <td>2</td>\n",
       "      <td>2.0</td>\n",
       "      <td>2.0</td>\n",
       "      <td>0</td>\n",
       "    </tr>\n",
       "    <tr>\n",
       "      <th>2</th>\n",
       "      <td>1</td>\n",
       "      <td>2.0</td>\n",
       "      <td>1</td>\n",
       "      <td>2.0</td>\n",
       "      <td>2.0</td>\n",
       "      <td>2</td>\n",
       "    </tr>\n",
       "    <tr>\n",
       "      <th>6</th>\n",
       "      <td>2</td>\n",
       "      <td>2.0</td>\n",
       "      <td>2</td>\n",
       "      <td>2.0</td>\n",
       "      <td>2.0</td>\n",
       "      <td>0</td>\n",
       "    </tr>\n",
       "    <tr>\n",
       "      <th>9</th>\n",
       "      <td>2</td>\n",
       "      <td>2.0</td>\n",
       "      <td>2</td>\n",
       "      <td>2.0</td>\n",
       "      <td>2.0</td>\n",
       "      <td>0</td>\n",
       "    </tr>\n",
       "    <tr>\n",
       "      <th>11</th>\n",
       "      <td>2</td>\n",
       "      <td>1.0</td>\n",
       "      <td>2</td>\n",
       "      <td>1.0</td>\n",
       "      <td>2.0</td>\n",
       "      <td>2</td>\n",
       "    </tr>\n",
       "    <tr>\n",
       "      <th>13</th>\n",
       "      <td>2</td>\n",
       "      <td>3.0</td>\n",
       "      <td>2</td>\n",
       "      <td>3.0</td>\n",
       "      <td>1.0</td>\n",
       "      <td>0</td>\n",
       "    </tr>\n",
       "    <tr>\n",
       "      <th>14</th>\n",
       "      <td>1</td>\n",
       "      <td>1.0</td>\n",
       "      <td>1</td>\n",
       "      <td>1.0</td>\n",
       "      <td>4.0</td>\n",
       "      <td>1</td>\n",
       "    </tr>\n",
       "    <tr>\n",
       "      <th>16</th>\n",
       "      <td>1</td>\n",
       "      <td>1.0</td>\n",
       "      <td>1</td>\n",
       "      <td>1.0</td>\n",
       "      <td>3.0</td>\n",
       "      <td>2</td>\n",
       "    </tr>\n",
       "    <tr>\n",
       "      <th>17</th>\n",
       "      <td>1</td>\n",
       "      <td>1.0</td>\n",
       "      <td>1</td>\n",
       "      <td>1.0</td>\n",
       "      <td>1.0</td>\n",
       "      <td>2</td>\n",
       "    </tr>\n",
       "    <tr>\n",
       "      <th>18</th>\n",
       "      <td>1</td>\n",
       "      <td>1.0</td>\n",
       "      <td>1</td>\n",
       "      <td>1.0</td>\n",
       "      <td>1.0</td>\n",
       "      <td>2</td>\n",
       "    </tr>\n",
       "    <tr>\n",
       "      <th>19</th>\n",
       "      <td>3</td>\n",
       "      <td>2.0</td>\n",
       "      <td>3</td>\n",
       "      <td>2.0</td>\n",
       "      <td>2.0</td>\n",
       "      <td>0</td>\n",
       "    </tr>\n",
       "    <tr>\n",
       "      <th>21</th>\n",
       "      <td>2</td>\n",
       "      <td>2.0</td>\n",
       "      <td>2</td>\n",
       "      <td>2.0</td>\n",
       "      <td>5.0</td>\n",
       "      <td>1</td>\n",
       "    </tr>\n",
       "    <tr>\n",
       "      <th>24</th>\n",
       "      <td>1</td>\n",
       "      <td>1.0</td>\n",
       "      <td>1</td>\n",
       "      <td>1.0</td>\n",
       "      <td>2.0</td>\n",
       "      <td>2</td>\n",
       "    </tr>\n",
       "    <tr>\n",
       "      <th>25</th>\n",
       "      <td>1</td>\n",
       "      <td>2.0</td>\n",
       "      <td>1</td>\n",
       "      <td>2.0</td>\n",
       "      <td>4.0</td>\n",
       "      <td>1</td>\n",
       "    </tr>\n",
       "    <tr>\n",
       "      <th>26</th>\n",
       "      <td>1</td>\n",
       "      <td>2.0</td>\n",
       "      <td>1</td>\n",
       "      <td>2.0</td>\n",
       "      <td>3.0</td>\n",
       "      <td>1</td>\n",
       "    </tr>\n",
       "    <tr>\n",
       "      <th>27</th>\n",
       "      <td>1</td>\n",
       "      <td>2.0</td>\n",
       "      <td>1</td>\n",
       "      <td>2.0</td>\n",
       "      <td>4.0</td>\n",
       "      <td>1</td>\n",
       "    </tr>\n",
       "    <tr>\n",
       "      <th>28</th>\n",
       "      <td>1</td>\n",
       "      <td>2.0</td>\n",
       "      <td>1</td>\n",
       "      <td>2.0</td>\n",
       "      <td>3.0</td>\n",
       "      <td>1</td>\n",
       "    </tr>\n",
       "    <tr>\n",
       "      <th>29</th>\n",
       "      <td>1</td>\n",
       "      <td>2.0</td>\n",
       "      <td>1</td>\n",
       "      <td>2.0</td>\n",
       "      <td>4.0</td>\n",
       "      <td>1</td>\n",
       "    </tr>\n",
       "    <tr>\n",
       "      <th>30</th>\n",
       "      <td>1</td>\n",
       "      <td>2.0</td>\n",
       "      <td>1</td>\n",
       "      <td>2.0</td>\n",
       "      <td>3.0</td>\n",
       "      <td>1</td>\n",
       "    </tr>\n",
       "    <tr>\n",
       "      <th>31</th>\n",
       "      <td>1</td>\n",
       "      <td>2.0</td>\n",
       "      <td>1</td>\n",
       "      <td>2.0</td>\n",
       "      <td>4.0</td>\n",
       "      <td>1</td>\n",
       "    </tr>\n",
       "    <tr>\n",
       "      <th>32</th>\n",
       "      <td>1</td>\n",
       "      <td>2.0</td>\n",
       "      <td>1</td>\n",
       "      <td>2.0</td>\n",
       "      <td>3.0</td>\n",
       "      <td>1</td>\n",
       "    </tr>\n",
       "    <tr>\n",
       "      <th>33</th>\n",
       "      <td>1</td>\n",
       "      <td>1.0</td>\n",
       "      <td>1</td>\n",
       "      <td>1.0</td>\n",
       "      <td>1.0</td>\n",
       "      <td>2</td>\n",
       "    </tr>\n",
       "    <tr>\n",
       "      <th>34</th>\n",
       "      <td>2</td>\n",
       "      <td>2.0</td>\n",
       "      <td>2</td>\n",
       "      <td>2.0</td>\n",
       "      <td>2.0</td>\n",
       "      <td>0</td>\n",
       "    </tr>\n",
       "  </tbody>\n",
       "</table>\n",
       "</div>"
      ],
      "text/plain": [
       "    motivation1  motivation2  motivation3  motivation4  motivation5  cluster\n",
       "0             2          2.0            2          2.0          2.0        0\n",
       "2             1          2.0            1          2.0          2.0        2\n",
       "6             2          2.0            2          2.0          2.0        0\n",
       "9             2          2.0            2          2.0          2.0        0\n",
       "11            2          1.0            2          1.0          2.0        2\n",
       "13            2          3.0            2          3.0          1.0        0\n",
       "14            1          1.0            1          1.0          4.0        1\n",
       "16            1          1.0            1          1.0          3.0        2\n",
       "17            1          1.0            1          1.0          1.0        2\n",
       "18            1          1.0            1          1.0          1.0        2\n",
       "19            3          2.0            3          2.0          2.0        0\n",
       "21            2          2.0            2          2.0          5.0        1\n",
       "24            1          1.0            1          1.0          2.0        2\n",
       "25            1          2.0            1          2.0          4.0        1\n",
       "26            1          2.0            1          2.0          3.0        1\n",
       "27            1          2.0            1          2.0          4.0        1\n",
       "28            1          2.0            1          2.0          3.0        1\n",
       "29            1          2.0            1          2.0          4.0        1\n",
       "30            1          2.0            1          2.0          3.0        1\n",
       "31            1          2.0            1          2.0          4.0        1\n",
       "32            1          2.0            1          2.0          3.0        1\n",
       "33            1          1.0            1          1.0          1.0        2\n",
       "34            2          2.0            2          2.0          2.0        0"
      ]
     },
     "execution_count": 18,
     "metadata": {},
     "output_type": "execute_result"
    }
   ],
   "source": [
    "motivation3cluster = motivationClean.copy(deep=True)\n",
    "\n",
    "motivation3cluster['cluster'] = cluster_motivation3\n",
    "\n",
    "motivation3cluster"
   ]
  },
  {
   "cell_type": "markdown",
   "id": "f1e435c9",
   "metadata": {},
   "source": [
    "Using silhouette plot is one way to determine the number of clusters. Another simple way is through something called the elbow method. It uses the sum of squared distances of samples to their closest cluster center (i.e., k-Means method's stopping rule) to gauge when to stop. The implementation will require you to know how to write a loop. Give it a try if you want. Read more here: https://www.geeksforgeeks.org/elbow-method-for-optimal-value-of-k-in-kmeans/"
   ]
  },
  {
   "cell_type": "code",
   "execution_count": null,
   "id": "a60cc0e8",
   "metadata": {},
   "outputs": [],
   "source": []
  }
 ],
 "metadata": {
  "kernelspec": {
   "display_name": "Python 3",
   "language": "python",
   "name": "python3"
  },
  "language_info": {
   "codemirror_mode": {
    "name": "ipython",
    "version": 3
   },
   "file_extension": ".py",
   "mimetype": "text/x-python",
   "name": "python",
   "nbconvert_exporter": "python",
   "pygments_lexer": "ipython3",
   "version": "3.8.8"
  }
 },
 "nbformat": 4,
 "nbformat_minor": 5
}

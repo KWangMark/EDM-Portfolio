{
 "cells": [
  {
   "cell_type": "markdown",
   "id": "c7e4fb64",
   "metadata": {},
   "source": [
    "# Array Manipulation"
   ]
  },
  {
   "cell_type": "code",
   "execution_count": 1,
   "id": "ac33e3fe",
   "metadata": {},
   "outputs": [
    {
     "name": "stdout",
     "output_type": "stream",
     "text": [
      "The one dimension array looks like:\n",
      " [44 47 64 67 67  9 83 21 36 87]\n",
      "The two-dimension arrary looks like:\n",
      " [[70 88 88 12]\n",
      " [58 65 39 87]\n",
      " [46 88 81 37]]\n"
     ]
    }
   ],
   "source": [
    "import numpy as np \n",
    "\n",
    "np.random.seed(0)\n",
    "\n",
    "m1 = np.random.randint(0, 100, size = 10)\n",
    "m2 = np.random.randint(0, 100, size =(3,4))\n",
    "\n",
    "print(\"The one dimension array looks like:\\n\", m1)\n",
    "print(\"The two-dimension arrary looks like:\\n\", m2)"
   ]
  },
  {
   "cell_type": "code",
   "execution_count": 2,
   "id": "7007ec68",
   "metadata": {},
   "outputs": [
    {
     "name": "stdout",
     "output_type": "stream",
     "text": [
      "The one dimension array looks like: [44 47 64 67 67  9 83 21 36 87]\n",
      "The two-dimension arrary looks like: [[70 88 88 12]\n",
      " [58 65 39 87]\n",
      " [46 88 81 37]]\n"
     ]
    }
   ],
   "source": [
    "print(\"The one dimension array looks like:\", m1)\n",
    "print(\"The two-dimension arrary looks like:\", m2)"
   ]
  },
  {
   "cell_type": "markdown",
   "id": "ede898dc",
   "metadata": {},
   "source": [
    "We can see \"\\n\" means begining with a new line, more organized "
   ]
  },
  {
   "cell_type": "code",
   "execution_count": 3,
   "id": "6d08deb6",
   "metadata": {},
   "outputs": [
    {
     "data": {
      "text/plain": [
       "44"
      ]
     },
     "execution_count": 3,
     "metadata": {},
     "output_type": "execute_result"
    }
   ],
   "source": [
    "m1[0] \n",
    "# start countring from 0 "
   ]
  },
  {
   "cell_type": "code",
   "execution_count": 4,
   "id": "5b00064f",
   "metadata": {},
   "outputs": [
    {
     "data": {
      "text/plain": [
       "87"
      ]
     },
     "execution_count": 4,
     "metadata": {},
     "output_type": "execute_result"
    }
   ],
   "source": [
    "m1[-1]\n",
    "# -1 means the last digit "
   ]
  },
  {
   "cell_type": "code",
   "execution_count": 5,
   "id": "be6bafb9",
   "metadata": {},
   "outputs": [
    {
     "data": {
      "text/plain": [
       "88"
      ]
     },
     "execution_count": 5,
     "metadata": {},
     "output_type": "execute_result"
    }
   ],
   "source": [
    "m2[0,-2] \n",
    "# The fist digit means row, the second digit means column"
   ]
  },
  {
   "cell_type": "markdown",
   "id": "5b50bcdf",
   "metadata": {},
   "source": [
    "#### Accessing subarrays"
   ]
  },
  {
   "cell_type": "code",
   "execution_count": 6,
   "id": "13cc6c86",
   "metadata": {},
   "outputs": [
    {
     "data": {
      "text/plain": [
       "array([47, 64])"
      ]
     },
     "execution_count": 6,
     "metadata": {},
     "output_type": "execute_result"
    }
   ],
   "source": [
    "m1[1: 3: 1]\n",
    "# It means that start the second, the third digits of the array. "
   ]
  },
  {
   "cell_type": "markdown",
   "id": "2b751350",
   "metadata": {},
   "source": [
    "1 means starting with the second digits. \n",
    "\n",
    "3 means the stop digit. Stop at the forth digits, and the forth digit is excluded. \n",
    "\n",
    "1 means the step digits. the length of counting step. Or how many digits will jump out from the previous digit. "
   ]
  },
  {
   "cell_type": "code",
   "execution_count": 7,
   "id": "61d2483d",
   "metadata": {},
   "outputs": [
    {
     "data": {
      "text/plain": [
       "array([44, 47, 64, 67, 67])"
      ]
     },
     "execution_count": 7,
     "metadata": {},
     "output_type": "execute_result"
    }
   ],
   "source": [
    "m1[:5]\n",
    "# It defaults as m1[0:5:1], starting from position0, stop at position 5(6th exculuded), then stepping is 1. "
   ]
  },
  {
   "cell_type": "code",
   "execution_count": 8,
   "id": "fbbdf549",
   "metadata": {},
   "outputs": [
    {
     "data": {
      "text/plain": [
       "array([ 9, 83, 21, 36, 87])"
      ]
     },
     "execution_count": 8,
     "metadata": {},
     "output_type": "execute_result"
    }
   ],
   "source": [
    "m1[5:]\n",
    "#accessing the value after the sixth(include the sixth one) digits"
   ]
  },
  {
   "cell_type": "code",
   "execution_count": 9,
   "id": "10ab4467",
   "metadata": {},
   "outputs": [
    {
     "data": {
      "text/plain": [
       "array([47, 67,  9, 21, 87])"
      ]
     },
     "execution_count": 9,
     "metadata": {},
     "output_type": "execute_result"
    }
   ],
   "source": [
    "# Challenge: how would you access every other element starting from the second?\n",
    "## INSERT YOUR CODE HERE\n",
    "m1[1:10:2]"
   ]
  },
  {
   "cell_type": "code",
   "execution_count": 10,
   "id": "43e51bea",
   "metadata": {},
   "outputs": [
    {
     "data": {
      "text/plain": [
       "array([47, 67,  9, 21, 87])"
      ]
     },
     "execution_count": 10,
     "metadata": {},
     "output_type": "execute_result"
    }
   ],
   "source": [
    "m1[1:len(m1):2]"
   ]
  },
  {
   "cell_type": "code",
   "execution_count": 11,
   "id": "472e234a",
   "metadata": {},
   "outputs": [
    {
     "data": {
      "text/plain": [
       "array([47, 67,  9, 21, 87])"
      ]
     },
     "execution_count": 11,
     "metadata": {},
     "output_type": "execute_result"
    }
   ],
   "source": [
    "m1[1::2]"
   ]
  },
  {
   "cell_type": "code",
   "execution_count": 12,
   "id": "a46f0899",
   "metadata": {},
   "outputs": [
    {
     "data": {
      "text/plain": [
       "array([87, 36, 21, 83,  9, 67, 67, 64, 47, 44])"
      ]
     },
     "execution_count": 12,
     "metadata": {},
     "output_type": "execute_result"
    }
   ],
   "source": [
    "m1[::-1]\n",
    "# all elements, but reversed."
   ]
  },
  {
   "cell_type": "code",
   "execution_count": 13,
   "id": "a7162de1",
   "metadata": {},
   "outputs": [
    {
     "data": {
      "text/plain": [
       "array([[65, 39]])"
      ]
     },
     "execution_count": 13,
     "metadata": {},
     "output_type": "execute_result"
    }
   ],
   "source": [
    "m2[1:2, 1:3]"
   ]
  },
  {
   "cell_type": "markdown",
   "id": "0c3de119",
   "metadata": {},
   "source": [
    "1:2 means the second digit in the second row \n",
    "\n",
    "1:3 means the second digit in the thrid column"
   ]
  },
  {
   "cell_type": "code",
   "execution_count": 14,
   "id": "6cfb9533",
   "metadata": {},
   "outputs": [
    {
     "data": {
      "text/plain": [
       "array([[70, 88, 88],\n",
       "       [58, 65, 39]])"
      ]
     },
     "execution_count": 14,
     "metadata": {},
     "output_type": "execute_result"
    }
   ],
   "source": [
    "m2[:2, :3]\n",
    "\n",
    "# :2 means all elements in the first two rows, \n",
    "\n",
    "# and all elelmsnts in the second columbs "
   ]
  },
  {
   "cell_type": "code",
   "execution_count": 15,
   "id": "22bb9a13",
   "metadata": {},
   "outputs": [
    {
     "data": {
      "text/plain": [
       "array([12, 87, 37])"
      ]
     },
     "execution_count": 15,
     "metadata": {},
     "output_type": "execute_result"
    }
   ],
   "source": [
    "m2[:, 3]\n",
    "\n",
    "# the forth column"
   ]
  },
  {
   "cell_type": "code",
   "execution_count": 16,
   "id": "daa00f65",
   "metadata": {},
   "outputs": [
    {
     "data": {
      "text/plain": [
       "array([12, 87])"
      ]
     },
     "execution_count": 16,
     "metadata": {},
     "output_type": "execute_result"
    }
   ],
   "source": [
    "m2[:2, 3]"
   ]
  },
  {
   "cell_type": "markdown",
   "id": "8eda4213",
   "metadata": {},
   "source": [
    "When there is :, 2 means 0, 1. 2 is excluded\n",
    "\n",
    "when there is no :, 2 means 0, 1, 2. e is included "
   ]
  },
  {
   "cell_type": "code",
   "execution_count": 17,
   "id": "0fb91431",
   "metadata": {},
   "outputs": [
    {
     "data": {
      "text/plain": [
       "array([70, 88, 88, 12])"
      ]
     },
     "execution_count": 17,
     "metadata": {},
     "output_type": "execute_result"
    }
   ],
   "source": [
    "m2[0, :]\n",
    "# the first row. : means all the number of columns => all the elements of the first row."
   ]
  },
  {
   "cell_type": "code",
   "execution_count": 18,
   "id": "71474020",
   "metadata": {},
   "outputs": [
    {
     "data": {
      "text/plain": [
       "array([70, 58, 46])"
      ]
     },
     "execution_count": 18,
     "metadata": {},
     "output_type": "execute_result"
    }
   ],
   "source": [
    "m2[:, 0]"
   ]
  },
  {
   "cell_type": "code",
   "execution_count": 19,
   "id": "d419bc09",
   "metadata": {},
   "outputs": [
    {
     "data": {
      "text/plain": [
       "array([88, 88, 87, 88])"
      ]
     },
     "execution_count": 19,
     "metadata": {},
     "output_type": "execute_result"
    }
   ],
   "source": [
    "m2[m2 > 85]\n",
    "# examin row by row. (the order is row by row)"
   ]
  },
  {
   "cell_type": "markdown",
   "id": "2d2911f0",
   "metadata": {},
   "source": [
    "#### Other tricks on using array: \n",
    "For instance: \n",
    "\n",
    "np.concatenate means put same dimension arraies together. / stacking same-dimension arrays together. \n",
    "\n",
    "np.vstack: stack arrays vertically. \n",
    "\n",
    "np.hstack: stack arrays horizontally."
   ]
  },
  {
   "cell_type": "code",
   "execution_count": 20,
   "id": "fc8f1d05",
   "metadata": {},
   "outputs": [
    {
     "data": {
      "text/plain": [
       "array([[1, 2, 3],\n",
       "       [4, 5, 6]])"
      ]
     },
     "execution_count": 20,
     "metadata": {},
     "output_type": "execute_result"
    }
   ],
   "source": [
    "grid = np.array([[1,2,3],\n",
    "           [4,5,6]])\n",
    "grid"
   ]
  },
  {
   "cell_type": "code",
   "execution_count": 21,
   "id": "1ca68be5",
   "metadata": {},
   "outputs": [
    {
     "data": {
      "text/plain": [
       "array([[1, 2, 3],\n",
       "       [4, 5, 6],\n",
       "       [1, 2, 3],\n",
       "       [4, 5, 6]])"
      ]
     },
     "execution_count": 21,
     "metadata": {},
     "output_type": "execute_result"
    }
   ],
   "source": [
    "np.concatenate([grid, grid])"
   ]
  },
  {
   "cell_type": "code",
   "execution_count": 22,
   "id": "bc6d5596",
   "metadata": {},
   "outputs": [
    {
     "data": {
      "text/plain": [
       "array([[1, 2, 3],\n",
       "       [4, 5, 6],\n",
       "       [1, 2, 3],\n",
       "       [4, 5, 6]])"
      ]
     },
     "execution_count": 22,
     "metadata": {},
     "output_type": "execute_result"
    }
   ],
   "source": [
    "np.vstack([grid, grid])"
   ]
  },
  {
   "cell_type": "code",
   "execution_count": 23,
   "id": "742c169c",
   "metadata": {},
   "outputs": [
    {
     "data": {
      "text/plain": [
       "array([[1, 2, 3, 1, 2, 3],\n",
       "       [4, 5, 6, 4, 5, 6]])"
      ]
     },
     "execution_count": 23,
     "metadata": {},
     "output_type": "execute_result"
    }
   ],
   "source": [
    "np.hstack([grid,grid])"
   ]
  },
  {
   "cell_type": "code",
   "execution_count": 24,
   "id": "038a6ac8",
   "metadata": {},
   "outputs": [
    {
     "data": {
      "text/plain": [
       "array([[1, 2, 3],\n",
       "       [4, 5, 6],\n",
       "       [2, 3, 4],\n",
       "       [5, 6, 7]])"
      ]
     },
     "execution_count": 24,
     "metadata": {},
     "output_type": "execute_result"
    }
   ],
   "source": [
    "np.vstack([grid,grid+1])\n",
    "# grid + 1 means every element in grid plus (increments) 1. "
   ]
  },
  {
   "cell_type": "markdown",
   "id": "3780cda5",
   "metadata": {},
   "source": [
    "### Data indexing in Series \n",
    "\n",
    "A series is similar to one-dimension numpy array, but it is more flexible because it can contain names."
   ]
  },
  {
   "cell_type": "code",
   "execution_count": 25,
   "id": "889b1aa2",
   "metadata": {},
   "outputs": [
    {
     "data": {
      "text/plain": [
       "a    0.25\n",
       "b    0.50\n",
       "c    0.75\n",
       "d    1.00\n",
       "dtype: float64"
      ]
     },
     "execution_count": 25,
     "metadata": {},
     "output_type": "execute_result"
    }
   ],
   "source": [
    "import pandas as pd \n",
    "s1 = pd.Series([0.25, 0.5, 0.75, 1.0], \n",
    "                  index=['a', 'b', 'c', 'd'])\n",
    "\n",
    "s1"
   ]
  },
  {
   "cell_type": "code",
   "execution_count": 26,
   "id": "83b4a612",
   "metadata": {},
   "outputs": [
    {
     "data": {
      "text/plain": [
       "0.5"
      ]
     },
     "execution_count": 26,
     "metadata": {},
     "output_type": "execute_result"
    }
   ],
   "source": [
    "s1['b']"
   ]
  },
  {
   "cell_type": "code",
   "execution_count": 27,
   "id": "5767805c",
   "metadata": {},
   "outputs": [
    {
     "data": {
      "text/plain": [
       "0.5"
      ]
     },
     "execution_count": 27,
     "metadata": {},
     "output_type": "execute_result"
    }
   ],
   "source": [
    "s1[1]"
   ]
  },
  {
   "cell_type": "code",
   "execution_count": 28,
   "id": "4fc12d31",
   "metadata": {},
   "outputs": [
    {
     "data": {
      "text/plain": [
       "a    0.25\n",
       "b    0.50\n",
       "dtype: float64"
      ]
     },
     "execution_count": 28,
     "metadata": {},
     "output_type": "execute_result"
    }
   ],
   "source": [
    "s1['a':'b']\n",
    "\n",
    "# it is same that s1['a':'b'] = s1[0:2]"
   ]
  },
  {
   "cell_type": "code",
   "execution_count": 29,
   "id": "06c1eb40",
   "metadata": {},
   "outputs": [
    {
     "data": {
      "text/plain": [
       "b    0.50\n",
       "c    0.75\n",
       "dtype: float64"
      ]
     },
     "execution_count": 29,
     "metadata": {},
     "output_type": "execute_result"
    }
   ],
   "source": [
    "s1[(s1 > 0.3) & (s1 < 0.8)]"
   ]
  },
  {
   "cell_type": "code",
   "execution_count": 30,
   "id": "59056487",
   "metadata": {},
   "outputs": [
    {
     "data": {
      "text/plain": [
       "1    a\n",
       "2    b\n",
       "3    c\n",
       "dtype: object"
      ]
     },
     "execution_count": 30,
     "metadata": {},
     "output_type": "execute_result"
    }
   ],
   "source": [
    "s2 = pd.Series(['a', 'b', 'c'], index = [1, 2, 3])\n",
    "s2"
   ]
  },
  {
   "cell_type": "code",
   "execution_count": 31,
   "id": "172ddf0e",
   "metadata": {},
   "outputs": [
    {
     "data": {
      "text/plain": [
       "2    b\n",
       "3    c\n",
       "dtype: object"
      ]
     },
     "execution_count": 31,
     "metadata": {},
     "output_type": "execute_result"
    }
   ],
   "source": [
    "s2[1:3]"
   ]
  },
  {
   "cell_type": "markdown",
   "id": "36c404d0",
   "metadata": {},
   "source": [
    "In order to avoid the confustion, panda offers two methods. The first one is loc, which coount the label of rows and columns. iloc count the index "
   ]
  },
  {
   "cell_type": "code",
   "execution_count": 32,
   "id": "b544cbcb",
   "metadata": {},
   "outputs": [
    {
     "data": {
      "text/plain": [
       "2    b\n",
       "3    c\n",
       "dtype: object"
      ]
     },
     "execution_count": 32,
     "metadata": {},
     "output_type": "execute_result"
    }
   ],
   "source": [
    "s2.iloc[1:3]"
   ]
  },
  {
   "cell_type": "code",
   "execution_count": 33,
   "id": "6e0c6e00",
   "metadata": {},
   "outputs": [
    {
     "data": {
      "text/plain": [
       "1    a\n",
       "2    b\n",
       "3    c\n",
       "dtype: object"
      ]
     },
     "execution_count": 33,
     "metadata": {},
     "output_type": "execute_result"
    }
   ],
   "source": [
    "s2.loc[1:3]"
   ]
  },
  {
   "cell_type": "markdown",
   "id": "e0442ea6",
   "metadata": {},
   "source": [
    "### Data indexing in DataFrame"
   ]
  },
  {
   "cell_type": "code",
   "execution_count": 34,
   "id": "47413d8c",
   "metadata": {},
   "outputs": [
    {
     "data": {
      "text/html": [
       "<div>\n",
       "<style scoped>\n",
       "    .dataframe tbody tr th:only-of-type {\n",
       "        vertical-align: middle;\n",
       "    }\n",
       "\n",
       "    .dataframe tbody tr th {\n",
       "        vertical-align: top;\n",
       "    }\n",
       "\n",
       "    .dataframe thead th {\n",
       "        text-align: right;\n",
       "    }\n",
       "</style>\n",
       "<table border=\"1\" class=\"dataframe\">\n",
       "  <thead>\n",
       "    <tr style=\"text-align: right;\">\n",
       "      <th></th>\n",
       "      <th>DBN</th>\n",
       "      <th>Quality_Review_Score</th>\n",
       "      <th>Progress_Rpt_10-11</th>\n",
       "      <th>Student_Progress_10-11</th>\n",
       "      <th>graduation 2010-11</th>\n",
       "      <th>college enroll 2010-11</th>\n",
       "    </tr>\n",
       "  </thead>\n",
       "  <tbody>\n",
       "    <tr>\n",
       "      <th>0</th>\n",
       "      <td>01M292</td>\n",
       "      <td>Developing</td>\n",
       "      <td>C</td>\n",
       "      <td>C</td>\n",
       "      <td>0.563</td>\n",
       "      <td>0.519</td>\n",
       "    </tr>\n",
       "    <tr>\n",
       "      <th>1</th>\n",
       "      <td>01M448</td>\n",
       "      <td>Developing</td>\n",
       "      <td>C</td>\n",
       "      <td>B</td>\n",
       "      <td>0.707</td>\n",
       "      <td>0.363</td>\n",
       "    </tr>\n",
       "    <tr>\n",
       "      <th>2</th>\n",
       "      <td>01M450</td>\n",
       "      <td>Well Developed</td>\n",
       "      <td>A</td>\n",
       "      <td>B</td>\n",
       "      <td>0.716</td>\n",
       "      <td>0.692</td>\n",
       "    </tr>\n",
       "    <tr>\n",
       "      <th>3</th>\n",
       "      <td>01M509</td>\n",
       "      <td>Proficient</td>\n",
       "      <td>C</td>\n",
       "      <td>C</td>\n",
       "      <td>0.564</td>\n",
       "      <td>0.477</td>\n",
       "    </tr>\n",
       "    <tr>\n",
       "      <th>4</th>\n",
       "      <td>01M539</td>\n",
       "      <td>Proficient</td>\n",
       "      <td>A</td>\n",
       "      <td>A</td>\n",
       "      <td>0.953</td>\n",
       "      <td>0.870</td>\n",
       "    </tr>\n",
       "    <tr>\n",
       "      <th>...</th>\n",
       "      <td>...</td>\n",
       "      <td>...</td>\n",
       "      <td>...</td>\n",
       "      <td>...</td>\n",
       "      <td>...</td>\n",
       "      <td>...</td>\n",
       "    </tr>\n",
       "    <tr>\n",
       "      <th>417</th>\n",
       "      <td>10X696</td>\n",
       "      <td>Well Developed</td>\n",
       "      <td>A</td>\n",
       "      <td>A</td>\n",
       "      <td>1.000</td>\n",
       "      <td>0.936</td>\n",
       "    </tr>\n",
       "    <tr>\n",
       "      <th>418</th>\n",
       "      <td>13K430</td>\n",
       "      <td>Proficient</td>\n",
       "      <td>B</td>\n",
       "      <td>B</td>\n",
       "      <td>0.977</td>\n",
       "      <td>0.867</td>\n",
       "    </tr>\n",
       "    <tr>\n",
       "      <th>419</th>\n",
       "      <td>10X445</td>\n",
       "      <td>Well Developed</td>\n",
       "      <td>A</td>\n",
       "      <td>A</td>\n",
       "      <td>1.000</td>\n",
       "      <td>0.994</td>\n",
       "    </tr>\n",
       "    <tr>\n",
       "      <th>420</th>\n",
       "      <td>14K449</td>\n",
       "      <td>Well Developed</td>\n",
       "      <td>B</td>\n",
       "      <td>B</td>\n",
       "      <td>0.914</td>\n",
       "      <td>0.961</td>\n",
       "    </tr>\n",
       "    <tr>\n",
       "      <th>421</th>\n",
       "      <td>28Q687</td>\n",
       "      <td>Proficient</td>\n",
       "      <td>A</td>\n",
       "      <td>B</td>\n",
       "      <td>1.000</td>\n",
       "      <td>0.972</td>\n",
       "    </tr>\n",
       "  </tbody>\n",
       "</table>\n",
       "<p>422 rows × 6 columns</p>\n",
       "</div>"
      ],
      "text/plain": [
       "        DBN Quality_Review_Score Progress_Rpt_10-11 Student_Progress_10-11  \\\n",
       "0    01M292           Developing                  C                      C   \n",
       "1    01M448           Developing                  C                      B   \n",
       "2    01M450       Well Developed                  A                      B   \n",
       "3    01M509           Proficient                  C                      C   \n",
       "4    01M539           Proficient                  A                      A   \n",
       "..      ...                  ...                ...                    ...   \n",
       "417  10X696       Well Developed                  A                      A   \n",
       "418  13K430           Proficient                  B                      B   \n",
       "419  10X445       Well Developed                  A                      A   \n",
       "420  14K449       Well Developed                  B                      B   \n",
       "421  28Q687           Proficient                  A                      B   \n",
       "\n",
       "     graduation 2010-11  college enroll 2010-11  \n",
       "0                 0.563                   0.519  \n",
       "1                 0.707                   0.363  \n",
       "2                 0.716                   0.692  \n",
       "3                 0.564                   0.477  \n",
       "4                 0.953                   0.870  \n",
       "..                  ...                     ...  \n",
       "417               1.000                   0.936  \n",
       "418               0.977                   0.867  \n",
       "419               1.000                   0.994  \n",
       "420               0.914                   0.961  \n",
       "421               1.000                   0.972  \n",
       "\n",
       "[422 rows x 6 columns]"
      ]
     },
     "execution_count": 34,
     "metadata": {},
     "output_type": "execute_result"
    }
   ],
   "source": [
    "ICEdata = pd.read_csv(\"ICE1_Data.csv\")\n",
    "\n",
    "ICEdata"
   ]
  },
  {
   "cell_type": "code",
   "execution_count": 35,
   "id": "d0b30c82",
   "metadata": {},
   "outputs": [
    {
     "data": {
      "text/plain": [
       "0          Developing\n",
       "1          Developing\n",
       "2      Well Developed\n",
       "3          Proficient\n",
       "4          Proficient\n",
       "            ...      \n",
       "417    Well Developed\n",
       "418        Proficient\n",
       "419    Well Developed\n",
       "420    Well Developed\n",
       "421        Proficient\n",
       "Name: Quality_Review_Score, Length: 422, dtype: object"
      ]
     },
     "execution_count": 35,
     "metadata": {},
     "output_type": "execute_result"
    }
   ],
   "source": [
    "ICEdata[\"Quality_Review_Score\"]"
   ]
  },
  {
   "cell_type": "markdown",
   "id": "045611ba",
   "metadata": {},
   "source": [
    "attribute-style access: Can learn it from python course, and basically, ICEdata is a father, and the columns like sons. "
   ]
  },
  {
   "cell_type": "markdown",
   "id": "17052dbb",
   "metadata": {},
   "source": [
    "### Creating new Columns "
   ]
  },
  {
   "cell_type": "code",
   "execution_count": 36,
   "id": "1f4311ea",
   "metadata": {},
   "outputs": [
    {
     "data": {
      "text/html": [
       "<div>\n",
       "<style scoped>\n",
       "    .dataframe tbody tr th:only-of-type {\n",
       "        vertical-align: middle;\n",
       "    }\n",
       "\n",
       "    .dataframe tbody tr th {\n",
       "        vertical-align: top;\n",
       "    }\n",
       "\n",
       "    .dataframe thead th {\n",
       "        text-align: right;\n",
       "    }\n",
       "</style>\n",
       "<table border=\"1\" class=\"dataframe\">\n",
       "  <thead>\n",
       "    <tr style=\"text-align: right;\">\n",
       "      <th></th>\n",
       "      <th>DBN</th>\n",
       "      <th>Quality_Review_Score</th>\n",
       "      <th>Progress_Rpt_10-11</th>\n",
       "      <th>Student_Progress_10-11</th>\n",
       "      <th>graduation 2010-11</th>\n",
       "      <th>college enroll 2010-11</th>\n",
       "      <th>CollegeRate</th>\n",
       "    </tr>\n",
       "  </thead>\n",
       "  <tbody>\n",
       "    <tr>\n",
       "      <th>0</th>\n",
       "      <td>01M292</td>\n",
       "      <td>Developing</td>\n",
       "      <td>C</td>\n",
       "      <td>C</td>\n",
       "      <td>0.563</td>\n",
       "      <td>0.519</td>\n",
       "      <td>0.921847</td>\n",
       "    </tr>\n",
       "    <tr>\n",
       "      <th>1</th>\n",
       "      <td>01M448</td>\n",
       "      <td>Developing</td>\n",
       "      <td>C</td>\n",
       "      <td>B</td>\n",
       "      <td>0.707</td>\n",
       "      <td>0.363</td>\n",
       "      <td>0.513437</td>\n",
       "    </tr>\n",
       "    <tr>\n",
       "      <th>2</th>\n",
       "      <td>01M450</td>\n",
       "      <td>Well Developed</td>\n",
       "      <td>A</td>\n",
       "      <td>B</td>\n",
       "      <td>0.716</td>\n",
       "      <td>0.692</td>\n",
       "      <td>0.966480</td>\n",
       "    </tr>\n",
       "    <tr>\n",
       "      <th>3</th>\n",
       "      <td>01M509</td>\n",
       "      <td>Proficient</td>\n",
       "      <td>C</td>\n",
       "      <td>C</td>\n",
       "      <td>0.564</td>\n",
       "      <td>0.477</td>\n",
       "      <td>0.845745</td>\n",
       "    </tr>\n",
       "    <tr>\n",
       "      <th>4</th>\n",
       "      <td>01M539</td>\n",
       "      <td>Proficient</td>\n",
       "      <td>A</td>\n",
       "      <td>A</td>\n",
       "      <td>0.953</td>\n",
       "      <td>0.870</td>\n",
       "      <td>0.912907</td>\n",
       "    </tr>\n",
       "    <tr>\n",
       "      <th>...</th>\n",
       "      <td>...</td>\n",
       "      <td>...</td>\n",
       "      <td>...</td>\n",
       "      <td>...</td>\n",
       "      <td>...</td>\n",
       "      <td>...</td>\n",
       "      <td>...</td>\n",
       "    </tr>\n",
       "    <tr>\n",
       "      <th>417</th>\n",
       "      <td>10X696</td>\n",
       "      <td>Well Developed</td>\n",
       "      <td>A</td>\n",
       "      <td>A</td>\n",
       "      <td>1.000</td>\n",
       "      <td>0.936</td>\n",
       "      <td>0.936000</td>\n",
       "    </tr>\n",
       "    <tr>\n",
       "      <th>418</th>\n",
       "      <td>13K430</td>\n",
       "      <td>Proficient</td>\n",
       "      <td>B</td>\n",
       "      <td>B</td>\n",
       "      <td>0.977</td>\n",
       "      <td>0.867</td>\n",
       "      <td>0.887410</td>\n",
       "    </tr>\n",
       "    <tr>\n",
       "      <th>419</th>\n",
       "      <td>10X445</td>\n",
       "      <td>Well Developed</td>\n",
       "      <td>A</td>\n",
       "      <td>A</td>\n",
       "      <td>1.000</td>\n",
       "      <td>0.994</td>\n",
       "      <td>0.994000</td>\n",
       "    </tr>\n",
       "    <tr>\n",
       "      <th>420</th>\n",
       "      <td>14K449</td>\n",
       "      <td>Well Developed</td>\n",
       "      <td>B</td>\n",
       "      <td>B</td>\n",
       "      <td>0.914</td>\n",
       "      <td>0.961</td>\n",
       "      <td>1.051422</td>\n",
       "    </tr>\n",
       "    <tr>\n",
       "      <th>421</th>\n",
       "      <td>28Q687</td>\n",
       "      <td>Proficient</td>\n",
       "      <td>A</td>\n",
       "      <td>B</td>\n",
       "      <td>1.000</td>\n",
       "      <td>0.972</td>\n",
       "      <td>0.972000</td>\n",
       "    </tr>\n",
       "  </tbody>\n",
       "</table>\n",
       "<p>422 rows × 7 columns</p>\n",
       "</div>"
      ],
      "text/plain": [
       "        DBN Quality_Review_Score Progress_Rpt_10-11 Student_Progress_10-11  \\\n",
       "0    01M292           Developing                  C                      C   \n",
       "1    01M448           Developing                  C                      B   \n",
       "2    01M450       Well Developed                  A                      B   \n",
       "3    01M509           Proficient                  C                      C   \n",
       "4    01M539           Proficient                  A                      A   \n",
       "..      ...                  ...                ...                    ...   \n",
       "417  10X696       Well Developed                  A                      A   \n",
       "418  13K430           Proficient                  B                      B   \n",
       "419  10X445       Well Developed                  A                      A   \n",
       "420  14K449       Well Developed                  B                      B   \n",
       "421  28Q687           Proficient                  A                      B   \n",
       "\n",
       "     graduation 2010-11  college enroll 2010-11  CollegeRate  \n",
       "0                 0.563                   0.519     0.921847  \n",
       "1                 0.707                   0.363     0.513437  \n",
       "2                 0.716                   0.692     0.966480  \n",
       "3                 0.564                   0.477     0.845745  \n",
       "4                 0.953                   0.870     0.912907  \n",
       "..                  ...                     ...          ...  \n",
       "417               1.000                   0.936     0.936000  \n",
       "418               0.977                   0.867     0.887410  \n",
       "419               1.000                   0.994     0.994000  \n",
       "420               0.914                   0.961     1.051422  \n",
       "421               1.000                   0.972     0.972000  \n",
       "\n",
       "[422 rows x 7 columns]"
      ]
     },
     "execution_count": 36,
     "metadata": {},
     "output_type": "execute_result"
    }
   ],
   "source": [
    "# I want to see the result of dividing college eroll rate by graduation rate\n",
    "\n",
    "ICEdata['CollegeRate'] = ICEdata['college enroll 2010-11'] / ICEdata['graduation 2010-11']\n",
    "ICEdata"
   ]
  },
  {
   "cell_type": "markdown",
   "id": "503603a6",
   "metadata": {},
   "source": [
    "I can also view the dataframe as a two-dimensional series. And I can play rules in series into dataframe. "
   ]
  },
  {
   "cell_type": "code",
   "execution_count": 37,
   "id": "05801f86",
   "metadata": {},
   "outputs": [
    {
     "data": {
      "text/plain": [
       "DBN                           01M292\n",
       "Quality_Review_Score      Developing\n",
       "Progress_Rpt_10-11                 C\n",
       "Student_Progress_10-11             C\n",
       "graduation 2010-11             0.563\n",
       "college enroll 2010-11         0.519\n",
       "CollegeRate                 0.921847\n",
       "Name: 0, dtype: object"
      ]
     },
     "execution_count": 37,
     "metadata": {},
     "output_type": "execute_result"
    }
   ],
   "source": [
    "ICEdata.loc[0]"
   ]
  },
  {
   "cell_type": "code",
   "execution_count": 38,
   "id": "ff2bdc48",
   "metadata": {},
   "outputs": [
    {
     "data": {
      "text/plain": [
       "DBN                           01M448\n",
       "Quality_Review_Score      Developing\n",
       "Progress_Rpt_10-11                 C\n",
       "Student_Progress_10-11             B\n",
       "graduation 2010-11             0.707\n",
       "college enroll 2010-11         0.363\n",
       "CollegeRate                 0.513437\n",
       "Name: 1, dtype: object"
      ]
     },
     "execution_count": 38,
     "metadata": {},
     "output_type": "execute_result"
    }
   ],
   "source": [
    "ICEdata.loc[1]"
   ]
  },
  {
   "cell_type": "code",
   "execution_count": 39,
   "id": "3fda7da4",
   "metadata": {},
   "outputs": [
    {
     "data": {
      "text/html": [
       "<div>\n",
       "<style scoped>\n",
       "    .dataframe tbody tr th:only-of-type {\n",
       "        vertical-align: middle;\n",
       "    }\n",
       "\n",
       "    .dataframe tbody tr th {\n",
       "        vertical-align: top;\n",
       "    }\n",
       "\n",
       "    .dataframe thead th {\n",
       "        text-align: right;\n",
       "    }\n",
       "</style>\n",
       "<table border=\"1\" class=\"dataframe\">\n",
       "  <thead>\n",
       "    <tr style=\"text-align: right;\">\n",
       "      <th></th>\n",
       "      <th>DBN</th>\n",
       "      <th>Quality_Review_Score</th>\n",
       "    </tr>\n",
       "  </thead>\n",
       "  <tbody>\n",
       "    <tr>\n",
       "      <th>0</th>\n",
       "      <td>01M292</td>\n",
       "      <td>Developing</td>\n",
       "    </tr>\n",
       "    <tr>\n",
       "      <th>1</th>\n",
       "      <td>01M448</td>\n",
       "      <td>Developing</td>\n",
       "    </tr>\n",
       "    <tr>\n",
       "      <th>2</th>\n",
       "      <td>01M450</td>\n",
       "      <td>Well Developed</td>\n",
       "    </tr>\n",
       "  </tbody>\n",
       "</table>\n",
       "</div>"
      ],
      "text/plain": [
       "      DBN Quality_Review_Score\n",
       "0  01M292           Developing\n",
       "1  01M448           Developing\n",
       "2  01M450       Well Developed"
      ]
     },
     "execution_count": 39,
     "metadata": {},
     "output_type": "execute_result"
    }
   ],
   "source": [
    "ICEdata.iloc[:3, :2]"
   ]
  },
  {
   "cell_type": "markdown",
   "id": "37769a7a",
   "metadata": {},
   "source": [
    "ICEdata.loc[:3, :2] will not work because loc indicates the label(name), not the number. Here is how loc works. "
   ]
  },
  {
   "cell_type": "code",
   "execution_count": 40,
   "id": "8647cd1f",
   "metadata": {},
   "outputs": [
    {
     "data": {
      "text/html": [
       "<div>\n",
       "<style scoped>\n",
       "    .dataframe tbody tr th:only-of-type {\n",
       "        vertical-align: middle;\n",
       "    }\n",
       "\n",
       "    .dataframe tbody tr th {\n",
       "        vertical-align: top;\n",
       "    }\n",
       "\n",
       "    .dataframe thead th {\n",
       "        text-align: right;\n",
       "    }\n",
       "</style>\n",
       "<table border=\"1\" class=\"dataframe\">\n",
       "  <thead>\n",
       "    <tr style=\"text-align: right;\">\n",
       "      <th></th>\n",
       "      <th>DBN</th>\n",
       "      <th>Quality_Review_Score</th>\n",
       "      <th>Progress_Rpt_10-11</th>\n",
       "      <th>Student_Progress_10-11</th>\n",
       "      <th>graduation 2010-11</th>\n",
       "      <th>college enroll 2010-11</th>\n",
       "    </tr>\n",
       "  </thead>\n",
       "  <tbody>\n",
       "    <tr>\n",
       "      <th>0</th>\n",
       "      <td>01M292</td>\n",
       "      <td>Developing</td>\n",
       "      <td>C</td>\n",
       "      <td>C</td>\n",
       "      <td>0.563</td>\n",
       "      <td>0.519</td>\n",
       "    </tr>\n",
       "    <tr>\n",
       "      <th>1</th>\n",
       "      <td>01M448</td>\n",
       "      <td>Developing</td>\n",
       "      <td>C</td>\n",
       "      <td>B</td>\n",
       "      <td>0.707</td>\n",
       "      <td>0.363</td>\n",
       "    </tr>\n",
       "    <tr>\n",
       "      <th>2</th>\n",
       "      <td>01M450</td>\n",
       "      <td>Well Developed</td>\n",
       "      <td>A</td>\n",
       "      <td>B</td>\n",
       "      <td>0.716</td>\n",
       "      <td>0.692</td>\n",
       "    </tr>\n",
       "    <tr>\n",
       "      <th>3</th>\n",
       "      <td>01M509</td>\n",
       "      <td>Proficient</td>\n",
       "      <td>C</td>\n",
       "      <td>C</td>\n",
       "      <td>0.564</td>\n",
       "      <td>0.477</td>\n",
       "    </tr>\n",
       "    <tr>\n",
       "      <th>4</th>\n",
       "      <td>01M539</td>\n",
       "      <td>Proficient</td>\n",
       "      <td>A</td>\n",
       "      <td>A</td>\n",
       "      <td>0.953</td>\n",
       "      <td>0.870</td>\n",
       "    </tr>\n",
       "    <tr>\n",
       "      <th>5</th>\n",
       "      <td>01M696</td>\n",
       "      <td>Well Developed</td>\n",
       "      <td>B</td>\n",
       "      <td>C</td>\n",
       "      <td>0.976</td>\n",
       "      <td>0.957</td>\n",
       "    </tr>\n",
       "    <tr>\n",
       "      <th>6</th>\n",
       "      <td>02M047</td>\n",
       "      <td>Proficient</td>\n",
       "      <td>C</td>\n",
       "      <td>D</td>\n",
       "      <td>0.696</td>\n",
       "      <td>0.471</td>\n",
       "    </tr>\n",
       "    <tr>\n",
       "      <th>7</th>\n",
       "      <td>02M288</td>\n",
       "      <td>Proficient</td>\n",
       "      <td>A</td>\n",
       "      <td>B</td>\n",
       "      <td>0.820</td>\n",
       "      <td>0.627</td>\n",
       "    </tr>\n",
       "    <tr>\n",
       "      <th>8</th>\n",
       "      <td>02M294</td>\n",
       "      <td>Well Developed</td>\n",
       "      <td>B</td>\n",
       "      <td>B</td>\n",
       "      <td>0.675</td>\n",
       "      <td>0.483</td>\n",
       "    </tr>\n",
       "    <tr>\n",
       "      <th>9</th>\n",
       "      <td>02M296</td>\n",
       "      <td>Proficient</td>\n",
       "      <td>A</td>\n",
       "      <td>A</td>\n",
       "      <td>0.793</td>\n",
       "      <td>0.560</td>\n",
       "    </tr>\n",
       "    <tr>\n",
       "      <th>10</th>\n",
       "      <td>02M298</td>\n",
       "      <td>Well Developed</td>\n",
       "      <td>A</td>\n",
       "      <td>A</td>\n",
       "      <td>0.915</td>\n",
       "      <td>0.796</td>\n",
       "    </tr>\n",
       "    <tr>\n",
       "      <th>11</th>\n",
       "      <td>02M300</td>\n",
       "      <td>Proficient</td>\n",
       "      <td>B</td>\n",
       "      <td>C</td>\n",
       "      <td>0.663</td>\n",
       "      <td>0.475</td>\n",
       "    </tr>\n",
       "    <tr>\n",
       "      <th>12</th>\n",
       "      <td>02M303</td>\n",
       "      <td>Proficient</td>\n",
       "      <td>B</td>\n",
       "      <td>C</td>\n",
       "      <td>0.553</td>\n",
       "      <td>0.500</td>\n",
       "    </tr>\n",
       "    <tr>\n",
       "      <th>13</th>\n",
       "      <td>02M305</td>\n",
       "      <td>Proficient</td>\n",
       "      <td>C</td>\n",
       "      <td>D</td>\n",
       "      <td>0.678</td>\n",
       "      <td>0.548</td>\n",
       "    </tr>\n",
       "    <tr>\n",
       "      <th>14</th>\n",
       "      <td>02M308</td>\n",
       "      <td>Well Developed</td>\n",
       "      <td>A</td>\n",
       "      <td>A</td>\n",
       "      <td>0.762</td>\n",
       "      <td>0.478</td>\n",
       "    </tr>\n",
       "    <tr>\n",
       "      <th>15</th>\n",
       "      <td>02M316</td>\n",
       "      <td>Proficient</td>\n",
       "      <td>B</td>\n",
       "      <td>C</td>\n",
       "      <td>0.803</td>\n",
       "      <td>0.640</td>\n",
       "    </tr>\n",
       "    <tr>\n",
       "      <th>16</th>\n",
       "      <td>02M374</td>\n",
       "      <td>Proficient</td>\n",
       "      <td>C</td>\n",
       "      <td>C</td>\n",
       "      <td>0.778</td>\n",
       "      <td>0.404</td>\n",
       "    </tr>\n",
       "    <tr>\n",
       "      <th>17</th>\n",
       "      <td>02M376</td>\n",
       "      <td>Well Developed</td>\n",
       "      <td>NaN</td>\n",
       "      <td>NaN</td>\n",
       "      <td>NaN</td>\n",
       "      <td>NaN</td>\n",
       "    </tr>\n",
       "    <tr>\n",
       "      <th>18</th>\n",
       "      <td>02M392</td>\n",
       "      <td>Proficient</td>\n",
       "      <td>NaN</td>\n",
       "      <td>NaN</td>\n",
       "      <td>NaN</td>\n",
       "      <td>NaN</td>\n",
       "    </tr>\n",
       "    <tr>\n",
       "      <th>19</th>\n",
       "      <td>02M393</td>\n",
       "      <td>Proficient</td>\n",
       "      <td>NaN</td>\n",
       "      <td>NaN</td>\n",
       "      <td>NaN</td>\n",
       "      <td>NaN</td>\n",
       "    </tr>\n",
       "    <tr>\n",
       "      <th>20</th>\n",
       "      <td>02M399</td>\n",
       "      <td>Proficient</td>\n",
       "      <td>NaN</td>\n",
       "      <td>NaN</td>\n",
       "      <td>NaN</td>\n",
       "      <td>NaN</td>\n",
       "    </tr>\n",
       "  </tbody>\n",
       "</table>\n",
       "</div>"
      ],
      "text/plain": [
       "       DBN Quality_Review_Score Progress_Rpt_10-11 Student_Progress_10-11  \\\n",
       "0   01M292           Developing                  C                      C   \n",
       "1   01M448           Developing                  C                      B   \n",
       "2   01M450       Well Developed                  A                      B   \n",
       "3   01M509           Proficient                  C                      C   \n",
       "4   01M539           Proficient                  A                      A   \n",
       "5   01M696       Well Developed                  B                      C   \n",
       "6   02M047           Proficient                  C                      D   \n",
       "7   02M288           Proficient                  A                      B   \n",
       "8   02M294       Well Developed                  B                      B   \n",
       "9   02M296           Proficient                  A                      A   \n",
       "10  02M298       Well Developed                  A                      A   \n",
       "11  02M300           Proficient                  B                      C   \n",
       "12  02M303           Proficient                  B                      C   \n",
       "13  02M305           Proficient                  C                      D   \n",
       "14  02M308       Well Developed                  A                      A   \n",
       "15  02M316           Proficient                  B                      C   \n",
       "16  02M374           Proficient                  C                      C   \n",
       "17  02M376       Well Developed                NaN                    NaN   \n",
       "18  02M392           Proficient                NaN                    NaN   \n",
       "19  02M393           Proficient                NaN                    NaN   \n",
       "20  02M399           Proficient                NaN                    NaN   \n",
       "\n",
       "    graduation 2010-11  college enroll 2010-11  \n",
       "0                0.563                   0.519  \n",
       "1                0.707                   0.363  \n",
       "2                0.716                   0.692  \n",
       "3                0.564                   0.477  \n",
       "4                0.953                   0.870  \n",
       "5                0.976                   0.957  \n",
       "6                0.696                   0.471  \n",
       "7                0.820                   0.627  \n",
       "8                0.675                   0.483  \n",
       "9                0.793                   0.560  \n",
       "10               0.915                   0.796  \n",
       "11               0.663                   0.475  \n",
       "12               0.553                   0.500  \n",
       "13               0.678                   0.548  \n",
       "14               0.762                   0.478  \n",
       "15               0.803                   0.640  \n",
       "16               0.778                   0.404  \n",
       "17                 NaN                     NaN  \n",
       "18                 NaN                     NaN  \n",
       "19                 NaN                     NaN  \n",
       "20                 NaN                     NaN  "
      ]
     },
     "execution_count": 40,
     "metadata": {},
     "output_type": "execute_result"
    }
   ],
   "source": [
    "ICEdata.loc[:20, :\"college enroll 2010-11\"]"
   ]
  },
  {
   "cell_type": "markdown",
   "id": "781a9dd1",
   "metadata": {},
   "source": [
    "You can also do some simple data maskings, like: "
   ]
  },
  {
   "cell_type": "code",
   "execution_count": 41,
   "id": "20c6c41e",
   "metadata": {},
   "outputs": [
    {
     "data": {
      "text/html": [
       "<div>\n",
       "<style scoped>\n",
       "    .dataframe tbody tr th:only-of-type {\n",
       "        vertical-align: middle;\n",
       "    }\n",
       "\n",
       "    .dataframe tbody tr th {\n",
       "        vertical-align: top;\n",
       "    }\n",
       "\n",
       "    .dataframe thead th {\n",
       "        text-align: right;\n",
       "    }\n",
       "</style>\n",
       "<table border=\"1\" class=\"dataframe\">\n",
       "  <thead>\n",
       "    <tr style=\"text-align: right;\">\n",
       "      <th></th>\n",
       "      <th>DBN</th>\n",
       "      <th>Quality_Review_Score</th>\n",
       "      <th>Progress_Rpt_10-11</th>\n",
       "      <th>Student_Progress_10-11</th>\n",
       "      <th>graduation 2010-11</th>\n",
       "      <th>college enroll 2010-11</th>\n",
       "      <th>CollegeRate</th>\n",
       "    </tr>\n",
       "  </thead>\n",
       "  <tbody>\n",
       "    <tr>\n",
       "      <th>4</th>\n",
       "      <td>01M539</td>\n",
       "      <td>Proficient</td>\n",
       "      <td>A</td>\n",
       "      <td>A</td>\n",
       "      <td>0.953</td>\n",
       "      <td>0.870</td>\n",
       "      <td>0.912907</td>\n",
       "    </tr>\n",
       "    <tr>\n",
       "      <th>5</th>\n",
       "      <td>01M696</td>\n",
       "      <td>Well Developed</td>\n",
       "      <td>B</td>\n",
       "      <td>C</td>\n",
       "      <td>0.976</td>\n",
       "      <td>0.957</td>\n",
       "      <td>0.980533</td>\n",
       "    </tr>\n",
       "    <tr>\n",
       "      <th>7</th>\n",
       "      <td>02M288</td>\n",
       "      <td>Proficient</td>\n",
       "      <td>A</td>\n",
       "      <td>B</td>\n",
       "      <td>0.820</td>\n",
       "      <td>0.627</td>\n",
       "      <td>0.764634</td>\n",
       "    </tr>\n",
       "    <tr>\n",
       "      <th>10</th>\n",
       "      <td>02M298</td>\n",
       "      <td>Well Developed</td>\n",
       "      <td>A</td>\n",
       "      <td>A</td>\n",
       "      <td>0.915</td>\n",
       "      <td>0.796</td>\n",
       "      <td>0.869945</td>\n",
       "    </tr>\n",
       "    <tr>\n",
       "      <th>15</th>\n",
       "      <td>02M316</td>\n",
       "      <td>Proficient</td>\n",
       "      <td>B</td>\n",
       "      <td>C</td>\n",
       "      <td>0.803</td>\n",
       "      <td>0.640</td>\n",
       "      <td>0.797011</td>\n",
       "    </tr>\n",
       "    <tr>\n",
       "      <th>...</th>\n",
       "      <td>...</td>\n",
       "      <td>...</td>\n",
       "      <td>...</td>\n",
       "      <td>...</td>\n",
       "      <td>...</td>\n",
       "      <td>...</td>\n",
       "      <td>...</td>\n",
       "    </tr>\n",
       "    <tr>\n",
       "      <th>417</th>\n",
       "      <td>10X696</td>\n",
       "      <td>Well Developed</td>\n",
       "      <td>A</td>\n",
       "      <td>A</td>\n",
       "      <td>1.000</td>\n",
       "      <td>0.936</td>\n",
       "      <td>0.936000</td>\n",
       "    </tr>\n",
       "    <tr>\n",
       "      <th>418</th>\n",
       "      <td>13K430</td>\n",
       "      <td>Proficient</td>\n",
       "      <td>B</td>\n",
       "      <td>B</td>\n",
       "      <td>0.977</td>\n",
       "      <td>0.867</td>\n",
       "      <td>0.887410</td>\n",
       "    </tr>\n",
       "    <tr>\n",
       "      <th>419</th>\n",
       "      <td>10X445</td>\n",
       "      <td>Well Developed</td>\n",
       "      <td>A</td>\n",
       "      <td>A</td>\n",
       "      <td>1.000</td>\n",
       "      <td>0.994</td>\n",
       "      <td>0.994000</td>\n",
       "    </tr>\n",
       "    <tr>\n",
       "      <th>420</th>\n",
       "      <td>14K449</td>\n",
       "      <td>Well Developed</td>\n",
       "      <td>B</td>\n",
       "      <td>B</td>\n",
       "      <td>0.914</td>\n",
       "      <td>0.961</td>\n",
       "      <td>1.051422</td>\n",
       "    </tr>\n",
       "    <tr>\n",
       "      <th>421</th>\n",
       "      <td>28Q687</td>\n",
       "      <td>Proficient</td>\n",
       "      <td>A</td>\n",
       "      <td>B</td>\n",
       "      <td>1.000</td>\n",
       "      <td>0.972</td>\n",
       "      <td>0.972000</td>\n",
       "    </tr>\n",
       "  </tbody>\n",
       "</table>\n",
       "<p>103 rows × 7 columns</p>\n",
       "</div>"
      ],
      "text/plain": [
       "        DBN Quality_Review_Score Progress_Rpt_10-11 Student_Progress_10-11  \\\n",
       "4    01M539           Proficient                  A                      A   \n",
       "5    01M696       Well Developed                  B                      C   \n",
       "7    02M288           Proficient                  A                      B   \n",
       "10   02M298       Well Developed                  A                      A   \n",
       "15   02M316           Proficient                  B                      C   \n",
       "..      ...                  ...                ...                    ...   \n",
       "417  10X696       Well Developed                  A                      A   \n",
       "418  13K430           Proficient                  B                      B   \n",
       "419  10X445       Well Developed                  A                      A   \n",
       "420  14K449       Well Developed                  B                      B   \n",
       "421  28Q687           Proficient                  A                      B   \n",
       "\n",
       "     graduation 2010-11  college enroll 2010-11  CollegeRate  \n",
       "4                 0.953                   0.870     0.912907  \n",
       "5                 0.976                   0.957     0.980533  \n",
       "7                 0.820                   0.627     0.764634  \n",
       "10                0.915                   0.796     0.869945  \n",
       "15                0.803                   0.640     0.797011  \n",
       "..                  ...                     ...          ...  \n",
       "417               1.000                   0.936     0.936000  \n",
       "418               0.977                   0.867     0.887410  \n",
       "419               1.000                   0.994     0.994000  \n",
       "420               0.914                   0.961     1.051422  \n",
       "421               1.000                   0.972     0.972000  \n",
       "\n",
       "[103 rows x 7 columns]"
      ]
     },
     "execution_count": 41,
     "metadata": {},
     "output_type": "execute_result"
    }
   ],
   "source": [
    "ICEdata[ICEdata['graduation 2010-11'] > 0.8]"
   ]
  },
  {
   "cell_type": "markdown",
   "id": "434a5be8",
   "metadata": {},
   "source": [
    "#### Data Masking"
   ]
  },
  {
   "cell_type": "markdown",
   "id": "28433435",
   "metadata": {},
   "source": [
    "Now we will do data masking on Boolean operator. "
   ]
  },
  {
   "cell_type": "markdown",
   "id": "f146730c",
   "metadata": {},
   "source": [
    "Numpy implements operators like >, < etc. \n",
    "\n",
    "Notice: != means not equal \n",
    "\n",
    "== means equal to, = is a value assignment."
   ]
  },
  {
   "cell_type": "code",
   "execution_count": 42,
   "id": "fcc06377",
   "metadata": {},
   "outputs": [
    {
     "data": {
      "text/plain": [
       "array([[70, 88, 88, 12],\n",
       "       [58, 65, 39, 87],\n",
       "       [46, 88, 81, 37]])"
      ]
     },
     "execution_count": 42,
     "metadata": {},
     "output_type": "execute_result"
    }
   ],
   "source": [
    "m2"
   ]
  },
  {
   "cell_type": "code",
   "execution_count": 43,
   "id": "69bc36dd",
   "metadata": {},
   "outputs": [
    {
     "data": {
      "text/plain": [
       "array([[False, False, False,  True],\n",
       "       [False, False,  True, False],\n",
       "       [ True, False, False,  True]])"
      ]
     },
     "execution_count": 43,
     "metadata": {},
     "output_type": "execute_result"
    }
   ],
   "source": [
    "m2<50"
   ]
  },
  {
   "cell_type": "markdown",
   "id": "92b86307",
   "metadata": {},
   "source": [
    "Here, m2<2 will return True/False as result \n",
    "\n",
    "We wil use m2[m2<50] to filter the values."
   ]
  },
  {
   "cell_type": "code",
   "execution_count": 44,
   "id": "0626d37a",
   "metadata": {},
   "outputs": [
    {
     "data": {
      "text/plain": [
       "array([12, 39, 46, 37])"
      ]
     },
     "execution_count": 44,
     "metadata": {},
     "output_type": "execute_result"
    }
   ],
   "source": [
    "m2[m2<50]\n",
    "# again, evaluate row by row "
   ]
  },
  {
   "cell_type": "markdown",
   "id": "3af20e2c",
   "metadata": {},
   "source": [
    "What if there are two or more comparison? we will use &(and), |(or), ^(exlusive), ~(not)"
   ]
  },
  {
   "cell_type": "code",
   "execution_count": 45,
   "id": "ea0683d0",
   "metadata": {},
   "outputs": [
    {
     "data": {
      "text/plain": [
       "array([39, 46, 37])"
      ]
     },
     "execution_count": 45,
     "metadata": {},
     "output_type": "execute_result"
    }
   ],
   "source": [
    "mask = (m2<50) & (m2>30)\n",
    "m2[mask]"
   ]
  },
  {
   "cell_type": "code",
   "execution_count": 46,
   "id": "b7e841c6",
   "metadata": {},
   "outputs": [
    {
     "data": {
      "text/html": [
       "<div>\n",
       "<style scoped>\n",
       "    .dataframe tbody tr th:only-of-type {\n",
       "        vertical-align: middle;\n",
       "    }\n",
       "\n",
       "    .dataframe tbody tr th {\n",
       "        vertical-align: top;\n",
       "    }\n",
       "\n",
       "    .dataframe thead th {\n",
       "        text-align: right;\n",
       "    }\n",
       "</style>\n",
       "<table border=\"1\" class=\"dataframe\">\n",
       "  <thead>\n",
       "    <tr style=\"text-align: right;\">\n",
       "      <th></th>\n",
       "      <th>DBN</th>\n",
       "      <th>Quality_Review_Score</th>\n",
       "      <th>Progress_Rpt_10-11</th>\n",
       "      <th>Student_Progress_10-11</th>\n",
       "      <th>graduation 2010-11</th>\n",
       "      <th>college enroll 2010-11</th>\n",
       "      <th>CollegeRate</th>\n",
       "    </tr>\n",
       "  </thead>\n",
       "  <tbody>\n",
       "    <tr>\n",
       "      <th>7</th>\n",
       "      <td>02M288</td>\n",
       "      <td>Proficient</td>\n",
       "      <td>A</td>\n",
       "      <td>B</td>\n",
       "      <td>0.820</td>\n",
       "      <td>0.627</td>\n",
       "      <td>0.764634</td>\n",
       "    </tr>\n",
       "    <tr>\n",
       "      <th>25</th>\n",
       "      <td>02M412</td>\n",
       "      <td>Proficient</td>\n",
       "      <td>A</td>\n",
       "      <td>B</td>\n",
       "      <td>0.964</td>\n",
       "      <td>0.774</td>\n",
       "      <td>0.802905</td>\n",
       "    </tr>\n",
       "    <tr>\n",
       "      <th>75</th>\n",
       "      <td>04M435</td>\n",
       "      <td>Well Developed</td>\n",
       "      <td>A</td>\n",
       "      <td>B</td>\n",
       "      <td>0.920</td>\n",
       "      <td>0.757</td>\n",
       "      <td>0.822826</td>\n",
       "    </tr>\n",
       "    <tr>\n",
       "      <th>78</th>\n",
       "      <td>04M610</td>\n",
       "      <td>Proficient</td>\n",
       "      <td>A</td>\n",
       "      <td>B</td>\n",
       "      <td>0.984</td>\n",
       "      <td>0.982</td>\n",
       "      <td>0.997967</td>\n",
       "    </tr>\n",
       "    <tr>\n",
       "      <th>85</th>\n",
       "      <td>05M670</td>\n",
       "      <td>Developing</td>\n",
       "      <td>A</td>\n",
       "      <td>B</td>\n",
       "      <td>0.789</td>\n",
       "      <td>0.559</td>\n",
       "      <td>0.708492</td>\n",
       "    </tr>\n",
       "    <tr>\n",
       "      <th>107</th>\n",
       "      <td>07X548</td>\n",
       "      <td>Proficient</td>\n",
       "      <td>A</td>\n",
       "      <td>B</td>\n",
       "      <td>0.866</td>\n",
       "      <td>0.663</td>\n",
       "      <td>0.765589</td>\n",
       "    </tr>\n",
       "    <tr>\n",
       "      <th>108</th>\n",
       "      <td>07X551</td>\n",
       "      <td>Proficient</td>\n",
       "      <td>A</td>\n",
       "      <td>B</td>\n",
       "      <td>0.831</td>\n",
       "      <td>0.605</td>\n",
       "      <td>0.728039</td>\n",
       "    </tr>\n",
       "    <tr>\n",
       "      <th>147</th>\n",
       "      <td>09X543</td>\n",
       "      <td>Well Developed</td>\n",
       "      <td>A</td>\n",
       "      <td>B</td>\n",
       "      <td>0.765</td>\n",
       "      <td>0.319</td>\n",
       "      <td>0.416993</td>\n",
       "    </tr>\n",
       "    <tr>\n",
       "      <th>149</th>\n",
       "      <td>10X141</td>\n",
       "      <td>Proficient</td>\n",
       "      <td>A</td>\n",
       "      <td>B</td>\n",
       "      <td>0.870</td>\n",
       "      <td>0.784</td>\n",
       "      <td>0.901149</td>\n",
       "    </tr>\n",
       "    <tr>\n",
       "      <th>158</th>\n",
       "      <td>10X374</td>\n",
       "      <td>Well Developed</td>\n",
       "      <td>A</td>\n",
       "      <td>B</td>\n",
       "      <td>0.939</td>\n",
       "      <td>NaN</td>\n",
       "      <td>NaN</td>\n",
       "    </tr>\n",
       "    <tr>\n",
       "      <th>161</th>\n",
       "      <td>10X437</td>\n",
       "      <td>Developing</td>\n",
       "      <td>A</td>\n",
       "      <td>B</td>\n",
       "      <td>0.855</td>\n",
       "      <td>0.325</td>\n",
       "      <td>0.380117</td>\n",
       "    </tr>\n",
       "    <tr>\n",
       "      <th>175</th>\n",
       "      <td>11X275</td>\n",
       "      <td>Proficient</td>\n",
       "      <td>A</td>\n",
       "      <td>B</td>\n",
       "      <td>0.762</td>\n",
       "      <td>0.517</td>\n",
       "      <td>0.678478</td>\n",
       "    </tr>\n",
       "    <tr>\n",
       "      <th>206</th>\n",
       "      <td>13K419</td>\n",
       "      <td>Proficient</td>\n",
       "      <td>A</td>\n",
       "      <td>B</td>\n",
       "      <td>0.802</td>\n",
       "      <td>0.399</td>\n",
       "      <td>0.497506</td>\n",
       "    </tr>\n",
       "    <tr>\n",
       "      <th>220</th>\n",
       "      <td>14K478</td>\n",
       "      <td>Well Developed</td>\n",
       "      <td>A</td>\n",
       "      <td>B</td>\n",
       "      <td>0.847</td>\n",
       "      <td>0.432</td>\n",
       "      <td>0.510035</td>\n",
       "    </tr>\n",
       "    <tr>\n",
       "      <th>251</th>\n",
       "      <td>17K531</td>\n",
       "      <td>Proficient</td>\n",
       "      <td>A</td>\n",
       "      <td>B</td>\n",
       "      <td>0.787</td>\n",
       "      <td>0.433</td>\n",
       "      <td>0.550191</td>\n",
       "    </tr>\n",
       "    <tr>\n",
       "      <th>274</th>\n",
       "      <td>19K404</td>\n",
       "      <td>Well Developed</td>\n",
       "      <td>A</td>\n",
       "      <td>B</td>\n",
       "      <td>0.855</td>\n",
       "      <td>0.538</td>\n",
       "      <td>0.629240</td>\n",
       "    </tr>\n",
       "    <tr>\n",
       "      <th>305</th>\n",
       "      <td>22K535</td>\n",
       "      <td>Well Developed</td>\n",
       "      <td>A</td>\n",
       "      <td>B</td>\n",
       "      <td>0.958</td>\n",
       "      <td>0.862</td>\n",
       "      <td>0.899791</td>\n",
       "    </tr>\n",
       "    <tr>\n",
       "      <th>308</th>\n",
       "      <td>23K514</td>\n",
       "      <td>Proficient</td>\n",
       "      <td>A</td>\n",
       "      <td>B</td>\n",
       "      <td>0.769</td>\n",
       "      <td>0.467</td>\n",
       "      <td>0.607282</td>\n",
       "    </tr>\n",
       "    <tr>\n",
       "      <th>334</th>\n",
       "      <td>26Q430</td>\n",
       "      <td>Proficient</td>\n",
       "      <td>A</td>\n",
       "      <td>B</td>\n",
       "      <td>0.875</td>\n",
       "      <td>0.680</td>\n",
       "      <td>0.777143</td>\n",
       "    </tr>\n",
       "    <tr>\n",
       "      <th>336</th>\n",
       "      <td>26Q495</td>\n",
       "      <td>Well Developed</td>\n",
       "      <td>A</td>\n",
       "      <td>B</td>\n",
       "      <td>0.862</td>\n",
       "      <td>0.745</td>\n",
       "      <td>0.864269</td>\n",
       "    </tr>\n",
       "    <tr>\n",
       "      <th>356</th>\n",
       "      <td>28Q440</td>\n",
       "      <td>Proficient</td>\n",
       "      <td>A</td>\n",
       "      <td>B</td>\n",
       "      <td>0.844</td>\n",
       "      <td>0.649</td>\n",
       "      <td>0.768957</td>\n",
       "    </tr>\n",
       "    <tr>\n",
       "      <th>357</th>\n",
       "      <td>28Q505</td>\n",
       "      <td>Proficient</td>\n",
       "      <td>A</td>\n",
       "      <td>B</td>\n",
       "      <td>0.756</td>\n",
       "      <td>0.529</td>\n",
       "      <td>0.699735</td>\n",
       "    </tr>\n",
       "    <tr>\n",
       "      <th>358</th>\n",
       "      <td>28Q620</td>\n",
       "      <td>Well Developed</td>\n",
       "      <td>A</td>\n",
       "      <td>B</td>\n",
       "      <td>0.877</td>\n",
       "      <td>0.697</td>\n",
       "      <td>0.794755</td>\n",
       "    </tr>\n",
       "    <tr>\n",
       "      <th>383</th>\n",
       "      <td>31R080</td>\n",
       "      <td>Proficient</td>\n",
       "      <td>A</td>\n",
       "      <td>B</td>\n",
       "      <td>0.866</td>\n",
       "      <td>0.817</td>\n",
       "      <td>0.943418</td>\n",
       "    </tr>\n",
       "    <tr>\n",
       "      <th>384</th>\n",
       "      <td>31R440</td>\n",
       "      <td>Well Developed</td>\n",
       "      <td>A</td>\n",
       "      <td>B</td>\n",
       "      <td>0.756</td>\n",
       "      <td>0.473</td>\n",
       "      <td>0.625661</td>\n",
       "    </tr>\n",
       "    <tr>\n",
       "      <th>413</th>\n",
       "      <td>03M485</td>\n",
       "      <td>Outstanding (only an option in 2007-8)</td>\n",
       "      <td>A</td>\n",
       "      <td>B</td>\n",
       "      <td>0.982</td>\n",
       "      <td>0.861</td>\n",
       "      <td>0.876782</td>\n",
       "    </tr>\n",
       "    <tr>\n",
       "      <th>415</th>\n",
       "      <td>02M475</td>\n",
       "      <td>Well Developed</td>\n",
       "      <td>A</td>\n",
       "      <td>B</td>\n",
       "      <td>0.985</td>\n",
       "      <td>0.854</td>\n",
       "      <td>0.867005</td>\n",
       "    </tr>\n",
       "    <tr>\n",
       "      <th>416</th>\n",
       "      <td>05M692</td>\n",
       "      <td>Well Developed</td>\n",
       "      <td>A</td>\n",
       "      <td>B</td>\n",
       "      <td>0.982</td>\n",
       "      <td>0.934</td>\n",
       "      <td>0.951120</td>\n",
       "    </tr>\n",
       "    <tr>\n",
       "      <th>421</th>\n",
       "      <td>28Q687</td>\n",
       "      <td>Proficient</td>\n",
       "      <td>A</td>\n",
       "      <td>B</td>\n",
       "      <td>1.000</td>\n",
       "      <td>0.972</td>\n",
       "      <td>0.972000</td>\n",
       "    </tr>\n",
       "  </tbody>\n",
       "</table>\n",
       "</div>"
      ],
      "text/plain": [
       "        DBN                    Quality_Review_Score Progress_Rpt_10-11  \\\n",
       "7    02M288                              Proficient                  A   \n",
       "25   02M412                              Proficient                  A   \n",
       "75   04M435                          Well Developed                  A   \n",
       "78   04M610                              Proficient                  A   \n",
       "85   05M670                              Developing                  A   \n",
       "107  07X548                              Proficient                  A   \n",
       "108  07X551                              Proficient                  A   \n",
       "147  09X543                          Well Developed                  A   \n",
       "149  10X141                              Proficient                  A   \n",
       "158  10X374                          Well Developed                  A   \n",
       "161  10X437                              Developing                  A   \n",
       "175  11X275                              Proficient                  A   \n",
       "206  13K419                              Proficient                  A   \n",
       "220  14K478                          Well Developed                  A   \n",
       "251  17K531                              Proficient                  A   \n",
       "274  19K404                          Well Developed                  A   \n",
       "305  22K535                          Well Developed                  A   \n",
       "308  23K514                              Proficient                  A   \n",
       "334  26Q430                              Proficient                  A   \n",
       "336  26Q495                          Well Developed                  A   \n",
       "356  28Q440                              Proficient                  A   \n",
       "357  28Q505                              Proficient                  A   \n",
       "358  28Q620                          Well Developed                  A   \n",
       "383  31R080                              Proficient                  A   \n",
       "384  31R440                          Well Developed                  A   \n",
       "413  03M485  Outstanding (only an option in 2007-8)                  A   \n",
       "415  02M475                          Well Developed                  A   \n",
       "416  05M692                          Well Developed                  A   \n",
       "421  28Q687                              Proficient                  A   \n",
       "\n",
       "    Student_Progress_10-11  graduation 2010-11  college enroll 2010-11  \\\n",
       "7                        B               0.820                   0.627   \n",
       "25                       B               0.964                   0.774   \n",
       "75                       B               0.920                   0.757   \n",
       "78                       B               0.984                   0.982   \n",
       "85                       B               0.789                   0.559   \n",
       "107                      B               0.866                   0.663   \n",
       "108                      B               0.831                   0.605   \n",
       "147                      B               0.765                   0.319   \n",
       "149                      B               0.870                   0.784   \n",
       "158                      B               0.939                     NaN   \n",
       "161                      B               0.855                   0.325   \n",
       "175                      B               0.762                   0.517   \n",
       "206                      B               0.802                   0.399   \n",
       "220                      B               0.847                   0.432   \n",
       "251                      B               0.787                   0.433   \n",
       "274                      B               0.855                   0.538   \n",
       "305                      B               0.958                   0.862   \n",
       "308                      B               0.769                   0.467   \n",
       "334                      B               0.875                   0.680   \n",
       "336                      B               0.862                   0.745   \n",
       "356                      B               0.844                   0.649   \n",
       "357                      B               0.756                   0.529   \n",
       "358                      B               0.877                   0.697   \n",
       "383                      B               0.866                   0.817   \n",
       "384                      B               0.756                   0.473   \n",
       "413                      B               0.982                   0.861   \n",
       "415                      B               0.985                   0.854   \n",
       "416                      B               0.982                   0.934   \n",
       "421                      B               1.000                   0.972   \n",
       "\n",
       "     CollegeRate  \n",
       "7       0.764634  \n",
       "25      0.802905  \n",
       "75      0.822826  \n",
       "78      0.997967  \n",
       "85      0.708492  \n",
       "107     0.765589  \n",
       "108     0.728039  \n",
       "147     0.416993  \n",
       "149     0.901149  \n",
       "158          NaN  \n",
       "161     0.380117  \n",
       "175     0.678478  \n",
       "206     0.497506  \n",
       "220     0.510035  \n",
       "251     0.550191  \n",
       "274     0.629240  \n",
       "305     0.899791  \n",
       "308     0.607282  \n",
       "334     0.777143  \n",
       "336     0.864269  \n",
       "356     0.768957  \n",
       "357     0.699735  \n",
       "358     0.794755  \n",
       "383     0.943418  \n",
       "384     0.625661  \n",
       "413     0.876782  \n",
       "415     0.867005  \n",
       "416     0.951120  \n",
       "421     0.972000  "
      ]
     },
     "execution_count": 46,
     "metadata": {},
     "output_type": "execute_result"
    }
   ],
   "source": [
    "ICEmask = (ICEdata['graduation 2010-11'] > 0.75) & (ICEdata['Progress_Rpt_10-11'] == 'A') & (ICEdata['Student_Progress_10-11']== 'B')\n",
    "ICEdata[ICEmask]"
   ]
  },
  {
   "cell_type": "markdown",
   "id": "0af1202b",
   "metadata": {},
   "source": [
    "### Combining data"
   ]
  },
  {
   "cell_type": "markdown",
   "id": "f0ab2c6f",
   "metadata": {},
   "source": [
    "In the previous section, we have learned the data manipulation. Now we are going to see how to combine dataset. "
   ]
  },
  {
   "cell_type": "code",
   "execution_count": 47,
   "id": "deb75cbf",
   "metadata": {},
   "outputs": [
    {
     "data": {
      "text/html": [
       "<div>\n",
       "<style scoped>\n",
       "    .dataframe tbody tr th:only-of-type {\n",
       "        vertical-align: middle;\n",
       "    }\n",
       "\n",
       "    .dataframe tbody tr th {\n",
       "        vertical-align: top;\n",
       "    }\n",
       "\n",
       "    .dataframe thead th {\n",
       "        text-align: right;\n",
       "    }\n",
       "</style>\n",
       "<table border=\"1\" class=\"dataframe\">\n",
       "  <thead>\n",
       "    <tr style=\"text-align: right;\">\n",
       "      <th></th>\n",
       "      <th>A</th>\n",
       "      <th>B</th>\n",
       "      <th>C</th>\n",
       "    </tr>\n",
       "  </thead>\n",
       "  <tbody>\n",
       "    <tr>\n",
       "      <th>0</th>\n",
       "      <td>A0</td>\n",
       "      <td>B0</td>\n",
       "      <td>C0</td>\n",
       "    </tr>\n",
       "    <tr>\n",
       "      <th>1</th>\n",
       "      <td>A1</td>\n",
       "      <td>B1</td>\n",
       "      <td>C1</td>\n",
       "    </tr>\n",
       "    <tr>\n",
       "      <th>2</th>\n",
       "      <td>A2</td>\n",
       "      <td>B2</td>\n",
       "      <td>C2</td>\n",
       "    </tr>\n",
       "  </tbody>\n",
       "</table>\n",
       "</div>"
      ],
      "text/plain": [
       "    A   B   C\n",
       "0  A0  B0  C0\n",
       "1  A1  B1  C1\n",
       "2  A2  B2  C2"
      ]
     },
     "execution_count": 47,
     "metadata": {},
     "output_type": "execute_result"
    }
   ],
   "source": [
    "def make_df(cols, ind):\n",
    "    #Quickly make a DataFrame\n",
    "    data = {c: [str(c) + str(i) for i in ind]\n",
    "            for c in cols}\n",
    "    return pd.DataFrame(data, ind)\n",
    "#Example data frame\n",
    "make_df(\"ABC\", range(3))"
   ]
  },
  {
   "cell_type": "code",
   "execution_count": 48,
   "id": "01b6a8cf",
   "metadata": {},
   "outputs": [
    {
     "name": "stdout",
     "output_type": "stream",
     "text": [
      "    A   B\n",
      "1  A1  B1\n",
      "2  A2  B2 \n",
      "\n",
      "\n",
      "\n",
      "    A   B\n",
      "3  A3  B3\n",
      "4  A4  B4 \n",
      "\n",
      "\n",
      "\n",
      "    A   B\n",
      "1  A1  B1\n",
      "2  A2  B2\n",
      "3  A3  B3\n",
      "4  A4  B4\n"
     ]
    }
   ],
   "source": [
    "df1 = make_df('AB', [1,2])\n",
    "df2 = make_df('AB', [3,4])\n",
    "\n",
    "print(df1, \"\\n\\n\\n\")\n",
    "print(df2, \"\\n\\n\\n\")\n",
    "print(pd.concat([df1,df2]))\n",
    "\n",
    "# It is similar to pd.concat or pd.vstack. By default, it is row-wise combined"
   ]
  },
  {
   "cell_type": "markdown",
   "id": "173fc95d",
   "metadata": {},
   "source": [
    "Sometimes, two data sets have different column names, and panda offers some options for that. For instance: "
   ]
  },
  {
   "cell_type": "code",
   "execution_count": 49,
   "id": "922e79b5",
   "metadata": {},
   "outputs": [
    {
     "name": "stdout",
     "output_type": "stream",
     "text": [
      "    A   B   C\n",
      "1  A1  B1  C1\n",
      "2  A2  B2  C2 \n",
      "\n",
      "\n",
      "\n",
      "    B   C   D\n",
      "3  B3  C3  D3\n",
      "4  B4  C4  D4 \n",
      "\n",
      "\n",
      "\n",
      "     A   B   C    D\n",
      "1   A1  B1  C1  NaN\n",
      "2   A2  B2  C2  NaN\n",
      "3  NaN  B3  C3   D3\n",
      "4  NaN  B4  C4   D4\n"
     ]
    }
   ],
   "source": [
    "df3 = make_df('ABC', [1,2])\n",
    "df4 = make_df('BCD', [3,4])\n",
    "print(df3, '\\n\\n\\n')\n",
    "print(df4, '\\n\\n\\n')\n",
    "print(pd.concat([df3,df4]))"
   ]
  },
  {
   "cell_type": "markdown",
   "id": "1feb7dda",
   "metadata": {},
   "source": [
    "We can see there is NaN in the first and the forth columns, we can do join = 'inner' to change it. By default, now it is join = 'outer'"
   ]
  },
  {
   "cell_type": "code",
   "execution_count": 50,
   "id": "d9e2cd7a",
   "metadata": {},
   "outputs": [
    {
     "data": {
      "text/html": [
       "<div>\n",
       "<style scoped>\n",
       "    .dataframe tbody tr th:only-of-type {\n",
       "        vertical-align: middle;\n",
       "    }\n",
       "\n",
       "    .dataframe tbody tr th {\n",
       "        vertical-align: top;\n",
       "    }\n",
       "\n",
       "    .dataframe thead th {\n",
       "        text-align: right;\n",
       "    }\n",
       "</style>\n",
       "<table border=\"1\" class=\"dataframe\">\n",
       "  <thead>\n",
       "    <tr style=\"text-align: right;\">\n",
       "      <th></th>\n",
       "      <th>B</th>\n",
       "      <th>C</th>\n",
       "    </tr>\n",
       "  </thead>\n",
       "  <tbody>\n",
       "    <tr>\n",
       "      <th>1</th>\n",
       "      <td>B1</td>\n",
       "      <td>C1</td>\n",
       "    </tr>\n",
       "    <tr>\n",
       "      <th>2</th>\n",
       "      <td>B2</td>\n",
       "      <td>C2</td>\n",
       "    </tr>\n",
       "    <tr>\n",
       "      <th>3</th>\n",
       "      <td>B3</td>\n",
       "      <td>C3</td>\n",
       "    </tr>\n",
       "    <tr>\n",
       "      <th>4</th>\n",
       "      <td>B4</td>\n",
       "      <td>C4</td>\n",
       "    </tr>\n",
       "  </tbody>\n",
       "</table>\n",
       "</div>"
      ],
      "text/plain": [
       "    B   C\n",
       "1  B1  C1\n",
       "2  B2  C2\n",
       "3  B3  C3\n",
       "4  B4  C4"
      ]
     },
     "execution_count": 50,
     "metadata": {},
     "output_type": "execute_result"
    }
   ],
   "source": [
    "pd.concat([df3,df4], join = 'inner')"
   ]
  },
  {
   "cell_type": "markdown",
   "id": "9c0195bc",
   "metadata": {},
   "source": [
    "Also, a more commonly used method is pd.merge(). We can use it to do one-to-one, many-to-one, many-to-many joints. For instances:"
   ]
  },
  {
   "cell_type": "code",
   "execution_count": 51,
   "id": "83fcffef",
   "metadata": {},
   "outputs": [
    {
     "name": "stdout",
     "output_type": "stream",
     "text": [
      "  employee        group\n",
      "0      Bob   Accounting\n",
      "1     Jake  Engineering\n",
      "2     Lisa  Engineering\n",
      "3      Sue           HR \n",
      "\n",
      "\n",
      "\n",
      "  employee  hire_date\n",
      "0     Lisa       2004\n",
      "1      Bob       2012\n",
      "2     Jake       2008\n",
      "3      Sue       2015 \n",
      "\n",
      "\n",
      "\n",
      "  employee        group  hire_date\n",
      "0      Bob   Accounting       2012\n",
      "1     Jake  Engineering       2008\n",
      "2     Lisa  Engineering       2004\n",
      "3      Sue           HR       2015\n"
     ]
    }
   ],
   "source": [
    "df5 = pd.DataFrame({'employee':['Bob', 'Jake', 'Lisa', 'Sue'], \n",
    "                    'group':['Accounting', 'Engineering', 'Engineering', 'HR']})\n",
    "df6 = pd.DataFrame({'employee':['Lisa', 'Bob', 'Jake', 'Sue'], \n",
    "                     'hire_date': [2004, 2012, 2008, 2015]})\n",
    "dfm = pd.merge(df5,df6)\n",
    "\n",
    "print(df5, \"\\n\\n\\n\")\n",
    "print(df6, \"\\n\\n\\n\")\n",
    "print(dfm)"
   ]
  },
  {
   "cell_type": "markdown",
   "id": "92e005d4",
   "metadata": {},
   "source": [
    "For many-to-one case, the one of two columns must contain duplicate entries. DataFram will preserve the dupicate entries appropriately. "
   ]
  },
  {
   "cell_type": "code",
   "execution_count": 52,
   "id": "4027973c",
   "metadata": {},
   "outputs": [
    {
     "name": "stdout",
     "output_type": "stream",
     "text": [
      "         group supervisor\n",
      "0   Accounting      Carly\n",
      "1  Engineering      Guido\n",
      "2           HR      Steve \n",
      "\n",
      "\n",
      "\n",
      "  employee        group supervisor\n",
      "0      Bob   Accounting      Carly\n",
      "1     Jake  Engineering      Guido\n",
      "2     Lisa  Engineering      Guido\n",
      "3      Sue           HR      Steve\n"
     ]
    }
   ],
   "source": [
    "df7 = pd.DataFrame({'group': [\"Accounting\", 'Engineering', 'HR'], \n",
    "                    'supervisor':['Carly', 'Guido', 'Steve']})\n",
    "dfm = pd.merge(df5,df7)\n",
    "\n",
    "print(df7, '\\n\\n\\n')\n",
    "\n",
    "print(dfm)"
   ]
  },
  {
   "cell_type": "markdown",
   "id": "67b2100a",
   "metadata": {},
   "source": [
    "If we want to combine two datasets, but there are two different column names with same contains, we can use left_on and right_on to specify the two columns"
   ]
  },
  {
   "cell_type": "code",
   "execution_count": 53,
   "id": "71b72737",
   "metadata": {},
   "outputs": [
    {
     "data": {
      "text/html": [
       "<div>\n",
       "<style scoped>\n",
       "    .dataframe tbody tr th:only-of-type {\n",
       "        vertical-align: middle;\n",
       "    }\n",
       "\n",
       "    .dataframe tbody tr th {\n",
       "        vertical-align: top;\n",
       "    }\n",
       "\n",
       "    .dataframe thead th {\n",
       "        text-align: right;\n",
       "    }\n",
       "</style>\n",
       "<table border=\"1\" class=\"dataframe\">\n",
       "  <thead>\n",
       "    <tr style=\"text-align: right;\">\n",
       "      <th></th>\n",
       "      <th>employee</th>\n",
       "      <th>group</th>\n",
       "      <th>name</th>\n",
       "      <th>salary</th>\n",
       "    </tr>\n",
       "  </thead>\n",
       "  <tbody>\n",
       "    <tr>\n",
       "      <th>0</th>\n",
       "      <td>Bob</td>\n",
       "      <td>Accounting</td>\n",
       "      <td>Bob</td>\n",
       "      <td>7000</td>\n",
       "    </tr>\n",
       "    <tr>\n",
       "      <th>1</th>\n",
       "      <td>Jake</td>\n",
       "      <td>Engineering</td>\n",
       "      <td>Jake</td>\n",
       "      <td>8000</td>\n",
       "    </tr>\n",
       "    <tr>\n",
       "      <th>2</th>\n",
       "      <td>Lisa</td>\n",
       "      <td>Engineering</td>\n",
       "      <td>Lisa</td>\n",
       "      <td>9000</td>\n",
       "    </tr>\n",
       "    <tr>\n",
       "      <th>3</th>\n",
       "      <td>Sue</td>\n",
       "      <td>HR</td>\n",
       "      <td>Sue</td>\n",
       "      <td>12000</td>\n",
       "    </tr>\n",
       "  </tbody>\n",
       "</table>\n",
       "</div>"
      ],
      "text/plain": [
       "  employee        group  name  salary\n",
       "0      Bob   Accounting   Bob    7000\n",
       "1     Jake  Engineering  Jake    8000\n",
       "2     Lisa  Engineering  Lisa    9000\n",
       "3      Sue           HR   Sue   12000"
      ]
     },
     "execution_count": 53,
     "metadata": {},
     "output_type": "execute_result"
    }
   ],
   "source": [
    "df8 = pd.DataFrame({'name':['Bob', 'Jake', 'Lisa', 'Sue'],\n",
    "                    'salary':[7000, 8000, 9000, 12000]})\n",
    "pd.merge(df5, df8, left_on = 'employee', right_on = 'name')"
   ]
  },
  {
   "cell_type": "code",
   "execution_count": 54,
   "id": "6d5cd2f5",
   "metadata": {},
   "outputs": [
    {
     "data": {
      "text/html": [
       "<div>\n",
       "<style scoped>\n",
       "    .dataframe tbody tr th:only-of-type {\n",
       "        vertical-align: middle;\n",
       "    }\n",
       "\n",
       "    .dataframe tbody tr th {\n",
       "        vertical-align: top;\n",
       "    }\n",
       "\n",
       "    .dataframe thead th {\n",
       "        text-align: right;\n",
       "    }\n",
       "</style>\n",
       "<table border=\"1\" class=\"dataframe\">\n",
       "  <thead>\n",
       "    <tr style=\"text-align: right;\">\n",
       "      <th></th>\n",
       "      <th>employee</th>\n",
       "      <th>group</th>\n",
       "      <th>name</th>\n",
       "      <th>salary</th>\n",
       "    </tr>\n",
       "  </thead>\n",
       "  <tbody>\n",
       "    <tr>\n",
       "      <th>0</th>\n",
       "      <td>Bob</td>\n",
       "      <td>Accounting</td>\n",
       "      <td>Bob</td>\n",
       "      <td>7000</td>\n",
       "    </tr>\n",
       "    <tr>\n",
       "      <th>1</th>\n",
       "      <td>Jake</td>\n",
       "      <td>Engineering</td>\n",
       "      <td>Jake</td>\n",
       "      <td>8000</td>\n",
       "    </tr>\n",
       "    <tr>\n",
       "      <th>2</th>\n",
       "      <td>Lisa</td>\n",
       "      <td>Engineering</td>\n",
       "      <td>Lisa</td>\n",
       "      <td>9000</td>\n",
       "    </tr>\n",
       "    <tr>\n",
       "      <th>3</th>\n",
       "      <td>Sue</td>\n",
       "      <td>HR</td>\n",
       "      <td>Sue</td>\n",
       "      <td>12000</td>\n",
       "    </tr>\n",
       "  </tbody>\n",
       "</table>\n",
       "</div>"
      ],
      "text/plain": [
       "  employee        group  name  salary\n",
       "0      Bob   Accounting   Bob    7000\n",
       "1     Jake  Engineering  Jake    8000\n",
       "2     Lisa  Engineering  Lisa    9000\n",
       "3      Sue           HR   Sue   12000"
      ]
     },
     "execution_count": 54,
     "metadata": {},
     "output_type": "execute_result"
    }
   ],
   "source": [
    "df8 = pd.DataFrame({'name':['Bob', 'Jake', 'Lisa', 'Sue', 'redundent'],\n",
    "                    'salary':[7000, 8000, 9000, 12000,1]})\n",
    "pd.merge(df5, df8, left_on = 'employee', right_on = 'name')\n",
    "# The redundent one will be dropped"
   ]
  },
  {
   "cell_type": "markdown",
   "id": "a1a393b4",
   "metadata": {},
   "source": [
    "Since employee and name have the same information, it is quite redundent. We can drop it, by axis = 1."
   ]
  },
  {
   "cell_type": "code",
   "execution_count": 55,
   "id": "82c2818a",
   "metadata": {},
   "outputs": [
    {
     "data": {
      "text/html": [
       "<div>\n",
       "<style scoped>\n",
       "    .dataframe tbody tr th:only-of-type {\n",
       "        vertical-align: middle;\n",
       "    }\n",
       "\n",
       "    .dataframe tbody tr th {\n",
       "        vertical-align: top;\n",
       "    }\n",
       "\n",
       "    .dataframe thead th {\n",
       "        text-align: right;\n",
       "    }\n",
       "</style>\n",
       "<table border=\"1\" class=\"dataframe\">\n",
       "  <thead>\n",
       "    <tr style=\"text-align: right;\">\n",
       "      <th></th>\n",
       "      <th>employee</th>\n",
       "      <th>group</th>\n",
       "      <th>salary</th>\n",
       "    </tr>\n",
       "  </thead>\n",
       "  <tbody>\n",
       "    <tr>\n",
       "      <th>0</th>\n",
       "      <td>Bob</td>\n",
       "      <td>Accounting</td>\n",
       "      <td>7000</td>\n",
       "    </tr>\n",
       "    <tr>\n",
       "      <th>1</th>\n",
       "      <td>Jake</td>\n",
       "      <td>Engineering</td>\n",
       "      <td>8000</td>\n",
       "    </tr>\n",
       "    <tr>\n",
       "      <th>2</th>\n",
       "      <td>Lisa</td>\n",
       "      <td>Engineering</td>\n",
       "      <td>9000</td>\n",
       "    </tr>\n",
       "    <tr>\n",
       "      <th>3</th>\n",
       "      <td>Sue</td>\n",
       "      <td>HR</td>\n",
       "      <td>12000</td>\n",
       "    </tr>\n",
       "  </tbody>\n",
       "</table>\n",
       "</div>"
      ],
      "text/plain": [
       "  employee        group  salary\n",
       "0      Bob   Accounting    7000\n",
       "1     Jake  Engineering    8000\n",
       "2     Lisa  Engineering    9000\n",
       "3      Sue           HR   12000"
      ]
     },
     "execution_count": 55,
     "metadata": {},
     "output_type": "execute_result"
    }
   ],
   "source": [
    "pd.merge(df5, df8, left_on = 'employee', right_on = 'name').drop('name', axis=1)"
   ]
  },
  {
   "cell_type": "markdown",
   "id": "bc98c649",
   "metadata": {},
   "source": [
    "### Aggregation, grouping, and pivot tables "
   ]
  },
  {
   "cell_type": "markdown",
   "id": "d410cc07",
   "metadata": {},
   "source": [
    "sum(), mean(), median(), min(), max() are examples aggregation. "
   ]
  },
  {
   "cell_type": "code",
   "execution_count": 56,
   "id": "7c71ec3d",
   "metadata": {},
   "outputs": [
    {
     "data": {
      "text/html": [
       "<div>\n",
       "<style scoped>\n",
       "    .dataframe tbody tr th:only-of-type {\n",
       "        vertical-align: middle;\n",
       "    }\n",
       "\n",
       "    .dataframe tbody tr th {\n",
       "        vertical-align: top;\n",
       "    }\n",
       "\n",
       "    .dataframe thead th {\n",
       "        text-align: right;\n",
       "    }\n",
       "</style>\n",
       "<table border=\"1\" class=\"dataframe\">\n",
       "  <thead>\n",
       "    <tr style=\"text-align: right;\">\n",
       "      <th></th>\n",
       "      <th>DBN</th>\n",
       "      <th>Quality_Review_Score</th>\n",
       "      <th>Progress_Rpt_10-11</th>\n",
       "      <th>Student_Progress_10-11</th>\n",
       "      <th>graduation 2010-11</th>\n",
       "      <th>college enroll 2010-11</th>\n",
       "      <th>CollegeRate</th>\n",
       "    </tr>\n",
       "  </thead>\n",
       "  <tbody>\n",
       "    <tr>\n",
       "      <th>count</th>\n",
       "      <td>422</td>\n",
       "      <td>368</td>\n",
       "      <td>310</td>\n",
       "      <td>310</td>\n",
       "      <td>310.000000</td>\n",
       "      <td>291.000000</td>\n",
       "      <td>291.000000</td>\n",
       "    </tr>\n",
       "    <tr>\n",
       "      <th>unique</th>\n",
       "      <td>422</td>\n",
       "      <td>6</td>\n",
       "      <td>5</td>\n",
       "      <td>5</td>\n",
       "      <td>NaN</td>\n",
       "      <td>NaN</td>\n",
       "      <td>NaN</td>\n",
       "    </tr>\n",
       "    <tr>\n",
       "      <th>top</th>\n",
       "      <td>09X252</td>\n",
       "      <td>Proficient</td>\n",
       "      <td>A</td>\n",
       "      <td>C</td>\n",
       "      <td>NaN</td>\n",
       "      <td>NaN</td>\n",
       "      <td>NaN</td>\n",
       "    </tr>\n",
       "    <tr>\n",
       "      <th>freq</th>\n",
       "      <td>1</td>\n",
       "      <td>186</td>\n",
       "      <td>109</td>\n",
       "      <td>93</td>\n",
       "      <td>NaN</td>\n",
       "      <td>NaN</td>\n",
       "      <td>NaN</td>\n",
       "    </tr>\n",
       "    <tr>\n",
       "      <th>mean</th>\n",
       "      <td>NaN</td>\n",
       "      <td>NaN</td>\n",
       "      <td>NaN</td>\n",
       "      <td>NaN</td>\n",
       "      <td>0.737977</td>\n",
       "      <td>0.531196</td>\n",
       "      <td>0.707836</td>\n",
       "    </tr>\n",
       "    <tr>\n",
       "      <th>std</th>\n",
       "      <td>NaN</td>\n",
       "      <td>NaN</td>\n",
       "      <td>NaN</td>\n",
       "      <td>NaN</td>\n",
       "      <td>0.143356</td>\n",
       "      <td>0.193129</td>\n",
       "      <td>0.168986</td>\n",
       "    </tr>\n",
       "    <tr>\n",
       "      <th>min</th>\n",
       "      <td>NaN</td>\n",
       "      <td>NaN</td>\n",
       "      <td>NaN</td>\n",
       "      <td>NaN</td>\n",
       "      <td>0.412000</td>\n",
       "      <td>0.141000</td>\n",
       "      <td>0.262570</td>\n",
       "    </tr>\n",
       "    <tr>\n",
       "      <th>25%</th>\n",
       "      <td>NaN</td>\n",
       "      <td>NaN</td>\n",
       "      <td>NaN</td>\n",
       "      <td>NaN</td>\n",
       "      <td>0.625250</td>\n",
       "      <td>0.391000</td>\n",
       "      <td>0.589317</td>\n",
       "    </tr>\n",
       "    <tr>\n",
       "      <th>50%</th>\n",
       "      <td>NaN</td>\n",
       "      <td>NaN</td>\n",
       "      <td>NaN</td>\n",
       "      <td>NaN</td>\n",
       "      <td>0.726000</td>\n",
       "      <td>0.489000</td>\n",
       "      <td>0.707569</td>\n",
       "    </tr>\n",
       "    <tr>\n",
       "      <th>75%</th>\n",
       "      <td>NaN</td>\n",
       "      <td>NaN</td>\n",
       "      <td>NaN</td>\n",
       "      <td>NaN</td>\n",
       "      <td>0.850750</td>\n",
       "      <td>0.656000</td>\n",
       "      <td>0.838918</td>\n",
       "    </tr>\n",
       "    <tr>\n",
       "      <th>max</th>\n",
       "      <td>NaN</td>\n",
       "      <td>NaN</td>\n",
       "      <td>NaN</td>\n",
       "      <td>NaN</td>\n",
       "      <td>1.000000</td>\n",
       "      <td>1.000000</td>\n",
       "      <td>1.101227</td>\n",
       "    </tr>\n",
       "  </tbody>\n",
       "</table>\n",
       "</div>"
      ],
      "text/plain": [
       "           DBN Quality_Review_Score Progress_Rpt_10-11 Student_Progress_10-11  \\\n",
       "count      422                  368                310                    310   \n",
       "unique     422                    6                  5                      5   \n",
       "top     09X252           Proficient                  A                      C   \n",
       "freq         1                  186                109                     93   \n",
       "mean       NaN                  NaN                NaN                    NaN   \n",
       "std        NaN                  NaN                NaN                    NaN   \n",
       "min        NaN                  NaN                NaN                    NaN   \n",
       "25%        NaN                  NaN                NaN                    NaN   \n",
       "50%        NaN                  NaN                NaN                    NaN   \n",
       "75%        NaN                  NaN                NaN                    NaN   \n",
       "max        NaN                  NaN                NaN                    NaN   \n",
       "\n",
       "        graduation 2010-11  college enroll 2010-11  CollegeRate  \n",
       "count           310.000000              291.000000   291.000000  \n",
       "unique                 NaN                     NaN          NaN  \n",
       "top                    NaN                     NaN          NaN  \n",
       "freq                   NaN                     NaN          NaN  \n",
       "mean              0.737977                0.531196     0.707836  \n",
       "std               0.143356                0.193129     0.168986  \n",
       "min               0.412000                0.141000     0.262570  \n",
       "25%               0.625250                0.391000     0.589317  \n",
       "50%               0.726000                0.489000     0.707569  \n",
       "75%               0.850750                0.656000     0.838918  \n",
       "max               1.000000                1.000000     1.101227  "
      ]
     },
     "execution_count": 56,
     "metadata": {},
     "output_type": "execute_result"
    }
   ],
   "source": [
    "ICEdata.describe(include = 'all')"
   ]
  },
  {
   "cell_type": "code",
   "execution_count": 57,
   "id": "ee1a801d",
   "metadata": {},
   "outputs": [
    {
     "data": {
      "text/plain": [
       "graduation 2010-11        0.737977\n",
       "college enroll 2010-11    0.531196\n",
       "CollegeRate               0.707836\n",
       "dtype: float64"
      ]
     },
     "execution_count": 57,
     "metadata": {},
     "output_type": "execute_result"
    }
   ],
   "source": [
    "ICEdata.mean()"
   ]
  },
  {
   "cell_type": "markdown",
   "id": "f2a5305a",
   "metadata": {},
   "source": [
    "mean(), median(), min(), max() are simple are straightforward. But they only work on numerical data. "
   ]
  },
  {
   "cell_type": "markdown",
   "id": "017664c0",
   "metadata": {},
   "source": [
    "Other Pandas aggregation methods:\n",
    "\n",
    "- count(): Total number of items\n",
    "- first(), last(): First and last item\n",
    "- mean(), median(): Mean and median\n",
    "- min(), max(): Minimum and maximum\n",
    "- std(), var(): Standard deviation and variance\n",
    "- mad(): Mean absolute deviation\n",
    "- prod(): Product of all items\n",
    "- sum(): Sum of all items These are all methods of DataFrame and Series objects"
   ]
  },
  {
   "cell_type": "markdown",
   "id": "9a88759e",
   "metadata": {},
   "source": [
    "Simple aggregations only gives you a flavor of your dataset, but often we would prefer to aggregate conditionally on some label or index: this is implemented in the so-called groupby operation. The name \"group by\" comes from a command in the SQL database language and it is very commonly implemented in many other languages as well.\n",
    "\n",
    "groupby generally follows three steps: split, apply, and combine:\n",
    "\n",
    "- The split step involves breaking up and grouping a DataFrame depending on the value of the specified key.\n",
    "- The apply step, basically, we want do some operations on those splited data\n",
    "- The combine step merges the results of these operations into an output array."
   ]
  },
  {
   "attachments": {
    "Screen%20Shot%202021-09-30%20at%209.17.35%20PM.png": {
     "image/png": "[encoded data removed]"
    }
   },
   "cell_type": "markdown",
   "id": "d18125fb",
   "metadata": {},
   "source": [
    "![Screen%20Shot%202021-09-30%20at%209.17.35%20PM.png](attachment:Screen%20Shot%202021-09-30%20at%209.17.35%20PM.png)"
   ]
  },
  {
   "cell_type": "markdown",
   "id": "643f59f1",
   "metadata": {},
   "source": [
    "Groupby is the operation that can do those steps automatically."
   ]
  },
  {
   "cell_type": "code",
   "execution_count": 58,
   "id": "a112d989",
   "metadata": {},
   "outputs": [
    {
     "data": {
      "text/plain": [
       "<pandas.core.groupby.generic.DataFrameGroupBy object at 0x12356a460>"
      ]
     },
     "execution_count": 58,
     "metadata": {},
     "output_type": "execute_result"
    }
   ],
   "source": [
    "ICEdata.groupby('Quality_Review_Score')"
   ]
  },
  {
   "cell_type": "code",
   "execution_count": 59,
   "id": "3edefca9",
   "metadata": {},
   "outputs": [
    {
     "data": {
      "text/html": [
       "<div>\n",
       "<style scoped>\n",
       "    .dataframe tbody tr th:only-of-type {\n",
       "        vertical-align: middle;\n",
       "    }\n",
       "\n",
       "    .dataframe tbody tr th {\n",
       "        vertical-align: top;\n",
       "    }\n",
       "\n",
       "    .dataframe thead th {\n",
       "        text-align: right;\n",
       "    }\n",
       "</style>\n",
       "<table border=\"1\" class=\"dataframe\">\n",
       "  <thead>\n",
       "    <tr style=\"text-align: right;\">\n",
       "      <th></th>\n",
       "      <th>graduation 2010-11</th>\n",
       "      <th>college enroll 2010-11</th>\n",
       "      <th>CollegeRate</th>\n",
       "    </tr>\n",
       "    <tr>\n",
       "      <th>Quality_Review_Score</th>\n",
       "      <th></th>\n",
       "      <th></th>\n",
       "      <th></th>\n",
       "    </tr>\n",
       "  </thead>\n",
       "  <tbody>\n",
       "    <tr>\n",
       "      <th>Developing</th>\n",
       "      <td>0.633019</td>\n",
       "      <td>0.402830</td>\n",
       "      <td>0.641309</td>\n",
       "    </tr>\n",
       "    <tr>\n",
       "      <th>Outstanding (only an option in 2007-8)</th>\n",
       "      <td>0.864333</td>\n",
       "      <td>0.747667</td>\n",
       "      <td>0.864183</td>\n",
       "    </tr>\n",
       "    <tr>\n",
       "      <th>Proficient</th>\n",
       "      <td>0.729554</td>\n",
       "      <td>0.521208</td>\n",
       "      <td>0.703604</td>\n",
       "    </tr>\n",
       "    <tr>\n",
       "      <th>Underdeveloped</th>\n",
       "      <td>0.549667</td>\n",
       "      <td>0.350167</td>\n",
       "      <td>0.631451</td>\n",
       "    </tr>\n",
       "    <tr>\n",
       "      <th>Underdeveloped with Proficient Features (only an option in 2007-8, 2008-9 and 2009-10)</th>\n",
       "      <td>NaN</td>\n",
       "      <td>NaN</td>\n",
       "      <td>NaN</td>\n",
       "    </tr>\n",
       "    <tr>\n",
       "      <th>Well Developed</th>\n",
       "      <td>0.823367</td>\n",
       "      <td>0.625871</td>\n",
       "      <td>0.752696</td>\n",
       "    </tr>\n",
       "  </tbody>\n",
       "</table>\n",
       "</div>"
      ],
      "text/plain": [
       "                                                    graduation 2010-11  \\\n",
       "Quality_Review_Score                                                     \n",
       "Developing                                                    0.633019   \n",
       "Outstanding (only an option in 2007-8)                        0.864333   \n",
       "Proficient                                                    0.729554   \n",
       "Underdeveloped                                                0.549667   \n",
       "Underdeveloped with Proficient Features (only a...                 NaN   \n",
       "Well Developed                                                0.823367   \n",
       "\n",
       "                                                    college enroll 2010-11  \\\n",
       "Quality_Review_Score                                                         \n",
       "Developing                                                        0.402830   \n",
       "Outstanding (only an option in 2007-8)                            0.747667   \n",
       "Proficient                                                        0.521208   \n",
       "Underdeveloped                                                    0.350167   \n",
       "Underdeveloped with Proficient Features (only a...                     NaN   \n",
       "Well Developed                                                    0.625871   \n",
       "\n",
       "                                                    CollegeRate  \n",
       "Quality_Review_Score                                             \n",
       "Developing                                             0.641309  \n",
       "Outstanding (only an option in 2007-8)                 0.864183  \n",
       "Proficient                                             0.703604  \n",
       "Underdeveloped                                         0.631451  \n",
       "Underdeveloped with Proficient Features (only a...          NaN  \n",
       "Well Developed                                         0.752696  "
      ]
     },
     "execution_count": 59,
     "metadata": {},
     "output_type": "execute_result"
    }
   ],
   "source": [
    "ICEdata.groupby('Quality_Review_Score').mean()"
   ]
  },
  {
   "cell_type": "code",
   "execution_count": 60,
   "id": "a4cfe656",
   "metadata": {},
   "outputs": [
    {
     "data": {
      "text/html": [
       "<div>\n",
       "<style scoped>\n",
       "    .dataframe tbody tr th:only-of-type {\n",
       "        vertical-align: middle;\n",
       "    }\n",
       "\n",
       "    .dataframe tbody tr th {\n",
       "        vertical-align: top;\n",
       "    }\n",
       "\n",
       "    .dataframe thead th {\n",
       "        text-align: right;\n",
       "    }\n",
       "</style>\n",
       "<table border=\"1\" class=\"dataframe\">\n",
       "  <thead>\n",
       "    <tr style=\"text-align: right;\">\n",
       "      <th></th>\n",
       "      <th>count</th>\n",
       "      <th>mean</th>\n",
       "      <th>std</th>\n",
       "      <th>min</th>\n",
       "      <th>25%</th>\n",
       "      <th>50%</th>\n",
       "      <th>75%</th>\n",
       "      <th>max</th>\n",
       "    </tr>\n",
       "    <tr>\n",
       "      <th>Quality_Review_Score</th>\n",
       "      <th></th>\n",
       "      <th></th>\n",
       "      <th></th>\n",
       "      <th></th>\n",
       "      <th></th>\n",
       "      <th></th>\n",
       "      <th></th>\n",
       "      <th></th>\n",
       "    </tr>\n",
       "  </thead>\n",
       "  <tbody>\n",
       "    <tr>\n",
       "      <th>Developing</th>\n",
       "      <td>53.0</td>\n",
       "      <td>0.633019</td>\n",
       "      <td>0.107199</td>\n",
       "      <td>0.457</td>\n",
       "      <td>0.56300</td>\n",
       "      <td>0.615</td>\n",
       "      <td>0.69800</td>\n",
       "      <td>0.947</td>\n",
       "    </tr>\n",
       "    <tr>\n",
       "      <th>Outstanding (only an option in 2007-8)</th>\n",
       "      <td>3.0</td>\n",
       "      <td>0.864333</td>\n",
       "      <td>0.102051</td>\n",
       "      <td>0.800</td>\n",
       "      <td>0.80550</td>\n",
       "      <td>0.811</td>\n",
       "      <td>0.89650</td>\n",
       "      <td>0.982</td>\n",
       "    </tr>\n",
       "    <tr>\n",
       "      <th>Proficient</th>\n",
       "      <td>157.0</td>\n",
       "      <td>0.729554</td>\n",
       "      <td>0.135946</td>\n",
       "      <td>0.412</td>\n",
       "      <td>0.63000</td>\n",
       "      <td>0.722</td>\n",
       "      <td>0.81100</td>\n",
       "      <td>1.000</td>\n",
       "    </tr>\n",
       "    <tr>\n",
       "      <th>Underdeveloped</th>\n",
       "      <td>6.0</td>\n",
       "      <td>0.549667</td>\n",
       "      <td>0.061805</td>\n",
       "      <td>0.457</td>\n",
       "      <td>0.51525</td>\n",
       "      <td>0.554</td>\n",
       "      <td>0.59350</td>\n",
       "      <td>0.624</td>\n",
       "    </tr>\n",
       "    <tr>\n",
       "      <th>Underdeveloped with Proficient Features (only an option in 2007-8, 2008-9 and 2009-10)</th>\n",
       "      <td>0.0</td>\n",
       "      <td>NaN</td>\n",
       "      <td>NaN</td>\n",
       "      <td>NaN</td>\n",
       "      <td>NaN</td>\n",
       "      <td>NaN</td>\n",
       "      <td>NaN</td>\n",
       "      <td>NaN</td>\n",
       "    </tr>\n",
       "    <tr>\n",
       "      <th>Well Developed</th>\n",
       "      <td>90.0</td>\n",
       "      <td>0.823367</td>\n",
       "      <td>0.121570</td>\n",
       "      <td>0.545</td>\n",
       "      <td>0.72775</td>\n",
       "      <td>0.833</td>\n",
       "      <td>0.91875</td>\n",
       "      <td>1.000</td>\n",
       "    </tr>\n",
       "  </tbody>\n",
       "</table>\n",
       "</div>"
      ],
      "text/plain": [
       "                                                    count      mean       std  \\\n",
       "Quality_Review_Score                                                            \n",
       "Developing                                           53.0  0.633019  0.107199   \n",
       "Outstanding (only an option in 2007-8)                3.0  0.864333  0.102051   \n",
       "Proficient                                          157.0  0.729554  0.135946   \n",
       "Underdeveloped                                        6.0  0.549667  0.061805   \n",
       "Underdeveloped with Proficient Features (only a...    0.0       NaN       NaN   \n",
       "Well Developed                                       90.0  0.823367  0.121570   \n",
       "\n",
       "                                                      min      25%    50%  \\\n",
       "Quality_Review_Score                                                        \n",
       "Developing                                          0.457  0.56300  0.615   \n",
       "Outstanding (only an option in 2007-8)              0.800  0.80550  0.811   \n",
       "Proficient                                          0.412  0.63000  0.722   \n",
       "Underdeveloped                                      0.457  0.51525  0.554   \n",
       "Underdeveloped with Proficient Features (only a...    NaN      NaN    NaN   \n",
       "Well Developed                                      0.545  0.72775  0.833   \n",
       "\n",
       "                                                        75%    max  \n",
       "Quality_Review_Score                                                \n",
       "Developing                                          0.69800  0.947  \n",
       "Outstanding (only an option in 2007-8)              0.89650  0.982  \n",
       "Proficient                                          0.81100  1.000  \n",
       "Underdeveloped                                      0.59350  0.624  \n",
       "Underdeveloped with Proficient Features (only a...      NaN    NaN  \n",
       "Well Developed                                      0.91875  1.000  "
      ]
     },
     "execution_count": 60,
     "metadata": {},
     "output_type": "execute_result"
    }
   ],
   "source": [
    "ICEdata.groupby('Quality_Review_Score')['graduation 2010-11'].describe()\n",
    "# When we want to focus on one column(Variable)"
   ]
  },
  {
   "cell_type": "markdown",
   "id": "6af70fde",
   "metadata": {},
   "source": [
    "if you want to see detailed infor about all variables(columns)"
   ]
  },
  {
   "cell_type": "code",
   "execution_count": 61,
   "id": "31615711",
   "metadata": {},
   "outputs": [
    {
     "data": {
      "text/html": [
       "<div>\n",
       "<style scoped>\n",
       "    .dataframe tbody tr th:only-of-type {\n",
       "        vertical-align: middle;\n",
       "    }\n",
       "\n",
       "    .dataframe tbody tr th {\n",
       "        vertical-align: top;\n",
       "    }\n",
       "\n",
       "    .dataframe thead tr th {\n",
       "        text-align: left;\n",
       "    }\n",
       "\n",
       "    .dataframe thead tr:last-of-type th {\n",
       "        text-align: right;\n",
       "    }\n",
       "</style>\n",
       "<table border=\"1\" class=\"dataframe\">\n",
       "  <thead>\n",
       "    <tr>\n",
       "      <th></th>\n",
       "      <th colspan=\"5\" halign=\"left\">DBN</th>\n",
       "      <th colspan=\"5\" halign=\"left\">Student_Progress_10-11</th>\n",
       "      <th>...</th>\n",
       "      <th colspan=\"5\" halign=\"left\">college enroll 2010-11</th>\n",
       "      <th colspan=\"5\" halign=\"left\">CollegeRate</th>\n",
       "    </tr>\n",
       "    <tr>\n",
       "      <th>Progress_Rpt_10-11</th>\n",
       "      <th>A</th>\n",
       "      <th>B</th>\n",
       "      <th>C</th>\n",
       "      <th>D</th>\n",
       "      <th>F</th>\n",
       "      <th>A</th>\n",
       "      <th>B</th>\n",
       "      <th>C</th>\n",
       "      <th>D</th>\n",
       "      <th>F</th>\n",
       "      <th>...</th>\n",
       "      <th>A</th>\n",
       "      <th>B</th>\n",
       "      <th>C</th>\n",
       "      <th>D</th>\n",
       "      <th>F</th>\n",
       "      <th>A</th>\n",
       "      <th>B</th>\n",
       "      <th>C</th>\n",
       "      <th>D</th>\n",
       "      <th>F</th>\n",
       "    </tr>\n",
       "    <tr>\n",
       "      <th>Quality_Review_Score</th>\n",
       "      <th></th>\n",
       "      <th></th>\n",
       "      <th></th>\n",
       "      <th></th>\n",
       "      <th></th>\n",
       "      <th></th>\n",
       "      <th></th>\n",
       "      <th></th>\n",
       "      <th></th>\n",
       "      <th></th>\n",
       "      <th></th>\n",
       "      <th></th>\n",
       "      <th></th>\n",
       "      <th></th>\n",
       "      <th></th>\n",
       "      <th></th>\n",
       "      <th></th>\n",
       "      <th></th>\n",
       "      <th></th>\n",
       "      <th></th>\n",
       "      <th></th>\n",
       "    </tr>\n",
       "  </thead>\n",
       "  <tbody>\n",
       "    <tr>\n",
       "      <th>Developing</th>\n",
       "      <td>4.0</td>\n",
       "      <td>11.0</td>\n",
       "      <td>19.0</td>\n",
       "      <td>16.0</td>\n",
       "      <td>3.0</td>\n",
       "      <td>4.0</td>\n",
       "      <td>11.0</td>\n",
       "      <td>19.0</td>\n",
       "      <td>16.0</td>\n",
       "      <td>3.0</td>\n",
       "      <td>...</td>\n",
       "      <td>3.0</td>\n",
       "      <td>11.0</td>\n",
       "      <td>16.0</td>\n",
       "      <td>15.0</td>\n",
       "      <td>2.0</td>\n",
       "      <td>3.0</td>\n",
       "      <td>11.0</td>\n",
       "      <td>16.0</td>\n",
       "      <td>15.0</td>\n",
       "      <td>2.0</td>\n",
       "    </tr>\n",
       "    <tr>\n",
       "      <th>Outstanding (only an option in 2007-8)</th>\n",
       "      <td>3.0</td>\n",
       "      <td>NaN</td>\n",
       "      <td>NaN</td>\n",
       "      <td>NaN</td>\n",
       "      <td>NaN</td>\n",
       "      <td>3.0</td>\n",
       "      <td>NaN</td>\n",
       "      <td>NaN</td>\n",
       "      <td>NaN</td>\n",
       "      <td>NaN</td>\n",
       "      <td>...</td>\n",
       "      <td>3.0</td>\n",
       "      <td>NaN</td>\n",
       "      <td>NaN</td>\n",
       "      <td>NaN</td>\n",
       "      <td>NaN</td>\n",
       "      <td>3.0</td>\n",
       "      <td>NaN</td>\n",
       "      <td>NaN</td>\n",
       "      <td>NaN</td>\n",
       "      <td>NaN</td>\n",
       "    </tr>\n",
       "    <tr>\n",
       "      <th>Proficient</th>\n",
       "      <td>48.0</td>\n",
       "      <td>65.0</td>\n",
       "      <td>39.0</td>\n",
       "      <td>5.0</td>\n",
       "      <td>NaN</td>\n",
       "      <td>48.0</td>\n",
       "      <td>65.0</td>\n",
       "      <td>39.0</td>\n",
       "      <td>5.0</td>\n",
       "      <td>NaN</td>\n",
       "      <td>...</td>\n",
       "      <td>45.0</td>\n",
       "      <td>63.0</td>\n",
       "      <td>37.0</td>\n",
       "      <td>4.0</td>\n",
       "      <td>NaN</td>\n",
       "      <td>45.0</td>\n",
       "      <td>63.0</td>\n",
       "      <td>37.0</td>\n",
       "      <td>4.0</td>\n",
       "      <td>NaN</td>\n",
       "    </tr>\n",
       "    <tr>\n",
       "      <th>Underdeveloped</th>\n",
       "      <td>NaN</td>\n",
       "      <td>NaN</td>\n",
       "      <td>3.0</td>\n",
       "      <td>1.0</td>\n",
       "      <td>2.0</td>\n",
       "      <td>NaN</td>\n",
       "      <td>NaN</td>\n",
       "      <td>3.0</td>\n",
       "      <td>1.0</td>\n",
       "      <td>2.0</td>\n",
       "      <td>...</td>\n",
       "      <td>NaN</td>\n",
       "      <td>NaN</td>\n",
       "      <td>3.0</td>\n",
       "      <td>1.0</td>\n",
       "      <td>2.0</td>\n",
       "      <td>NaN</td>\n",
       "      <td>NaN</td>\n",
       "      <td>3.0</td>\n",
       "      <td>1.0</td>\n",
       "      <td>2.0</td>\n",
       "    </tr>\n",
       "    <tr>\n",
       "      <th>Well Developed</th>\n",
       "      <td>53.0</td>\n",
       "      <td>26.0</td>\n",
       "      <td>11.0</td>\n",
       "      <td>NaN</td>\n",
       "      <td>NaN</td>\n",
       "      <td>53.0</td>\n",
       "      <td>26.0</td>\n",
       "      <td>11.0</td>\n",
       "      <td>NaN</td>\n",
       "      <td>NaN</td>\n",
       "      <td>...</td>\n",
       "      <td>48.0</td>\n",
       "      <td>26.0</td>\n",
       "      <td>11.0</td>\n",
       "      <td>NaN</td>\n",
       "      <td>NaN</td>\n",
       "      <td>48.0</td>\n",
       "      <td>26.0</td>\n",
       "      <td>11.0</td>\n",
       "      <td>NaN</td>\n",
       "      <td>NaN</td>\n",
       "    </tr>\n",
       "  </tbody>\n",
       "</table>\n",
       "<p>5 rows × 25 columns</p>\n",
       "</div>"
      ],
      "text/plain": [
       "                                         DBN                         \\\n",
       "Progress_Rpt_10-11                         A     B     C     D    F   \n",
       "Quality_Review_Score                                                  \n",
       "Developing                               4.0  11.0  19.0  16.0  3.0   \n",
       "Outstanding (only an option in 2007-8)   3.0   NaN   NaN   NaN  NaN   \n",
       "Proficient                              48.0  65.0  39.0   5.0  NaN   \n",
       "Underdeveloped                           NaN   NaN   3.0   1.0  2.0   \n",
       "Well Developed                          53.0  26.0  11.0   NaN  NaN   \n",
       "\n",
       "                                       Student_Progress_10-11              \\\n",
       "Progress_Rpt_10-11                                          A     B     C   \n",
       "Quality_Review_Score                                                        \n",
       "Developing                                                4.0  11.0  19.0   \n",
       "Outstanding (only an option in 2007-8)                    3.0   NaN   NaN   \n",
       "Proficient                                               48.0  65.0  39.0   \n",
       "Underdeveloped                                            NaN   NaN   3.0   \n",
       "Well Developed                                           53.0  26.0  11.0   \n",
       "\n",
       "                                                   ... college enroll 2010-11  \\\n",
       "Progress_Rpt_10-11                         D    F  ...                      A   \n",
       "Quality_Review_Score                               ...                          \n",
       "Developing                              16.0  3.0  ...                    3.0   \n",
       "Outstanding (only an option in 2007-8)   NaN  NaN  ...                    3.0   \n",
       "Proficient                               5.0  NaN  ...                   45.0   \n",
       "Underdeveloped                           1.0  2.0  ...                    NaN   \n",
       "Well Developed                           NaN  NaN  ...                   48.0   \n",
       "\n",
       "                                                              CollegeRate  \\\n",
       "Progress_Rpt_10-11                         B     C     D    F           A   \n",
       "Quality_Review_Score                                                        \n",
       "Developing                              11.0  16.0  15.0  2.0         3.0   \n",
       "Outstanding (only an option in 2007-8)   NaN   NaN   NaN  NaN         3.0   \n",
       "Proficient                              63.0  37.0   4.0  NaN        45.0   \n",
       "Underdeveloped                           NaN   3.0   1.0  2.0         NaN   \n",
       "Well Developed                          26.0  11.0   NaN  NaN        48.0   \n",
       "\n",
       "                                                               \n",
       "Progress_Rpt_10-11                         B     C     D    F  \n",
       "Quality_Review_Score                                           \n",
       "Developing                              11.0  16.0  15.0  2.0  \n",
       "Outstanding (only an option in 2007-8)   NaN   NaN   NaN  NaN  \n",
       "Proficient                              63.0  37.0   4.0  NaN  \n",
       "Underdeveloped                           NaN   3.0   1.0  2.0  \n",
       "Well Developed                          26.0  11.0   NaN  NaN  \n",
       "\n",
       "[5 rows x 25 columns]"
      ]
     },
     "execution_count": 61,
     "metadata": {},
     "output_type": "execute_result"
    }
   ],
   "source": [
    "ICEdata.groupby(['Quality_Review_Score', 'Progress_Rpt_10-11']).count().unstack()\n",
    "#All sort out. \n",
    "# unstack here is to make table more readable"
   ]
  },
  {
   "cell_type": "markdown",
   "id": "2c38fd74",
   "metadata": {},
   "source": [
    "Previously, we applied sum(), mean(), median(). Now, aggregate()method allows for even more flexibility. It can take string, function, list etc, and compute aggregation at once. "
   ]
  },
  {
   "cell_type": "code",
   "execution_count": 62,
   "id": "da73964d",
   "metadata": {},
   "outputs": [
    {
     "data": {
      "text/html": [
       "<div>\n",
       "<style scoped>\n",
       "    .dataframe tbody tr th:only-of-type {\n",
       "        vertical-align: middle;\n",
       "    }\n",
       "\n",
       "    .dataframe tbody tr th {\n",
       "        vertical-align: top;\n",
       "    }\n",
       "\n",
       "    .dataframe thead tr th {\n",
       "        text-align: left;\n",
       "    }\n",
       "\n",
       "    .dataframe thead tr:last-of-type th {\n",
       "        text-align: right;\n",
       "    }\n",
       "</style>\n",
       "<table border=\"1\" class=\"dataframe\">\n",
       "  <thead>\n",
       "    <tr>\n",
       "      <th></th>\n",
       "      <th colspan=\"3\" halign=\"left\">graduation 2010-11</th>\n",
       "      <th colspan=\"3\" halign=\"left\">college enroll 2010-11</th>\n",
       "      <th colspan=\"3\" halign=\"left\">CollegeRate</th>\n",
       "    </tr>\n",
       "    <tr>\n",
       "      <th></th>\n",
       "      <th>median</th>\n",
       "      <th>mean</th>\n",
       "      <th>max</th>\n",
       "      <th>median</th>\n",
       "      <th>mean</th>\n",
       "      <th>max</th>\n",
       "      <th>median</th>\n",
       "      <th>mean</th>\n",
       "      <th>max</th>\n",
       "    </tr>\n",
       "    <tr>\n",
       "      <th>Quality_Review_Score</th>\n",
       "      <th></th>\n",
       "      <th></th>\n",
       "      <th></th>\n",
       "      <th></th>\n",
       "      <th></th>\n",
       "      <th></th>\n",
       "      <th></th>\n",
       "      <th></th>\n",
       "      <th></th>\n",
       "    </tr>\n",
       "  </thead>\n",
       "  <tbody>\n",
       "    <tr>\n",
       "      <th>Developing</th>\n",
       "      <td>0.615</td>\n",
       "      <td>0.633019</td>\n",
       "      <td>0.947</td>\n",
       "      <td>0.4030</td>\n",
       "      <td>0.402830</td>\n",
       "      <td>0.658</td>\n",
       "      <td>0.647416</td>\n",
       "      <td>0.641309</td>\n",
       "      <td>1.048622</td>\n",
       "    </tr>\n",
       "    <tr>\n",
       "      <th>Outstanding (only an option in 2007-8)</th>\n",
       "      <td>0.811</td>\n",
       "      <td>0.864333</td>\n",
       "      <td>0.982</td>\n",
       "      <td>0.6920</td>\n",
       "      <td>0.747667</td>\n",
       "      <td>0.861</td>\n",
       "      <td>0.862500</td>\n",
       "      <td>0.864183</td>\n",
       "      <td>0.876782</td>\n",
       "    </tr>\n",
       "    <tr>\n",
       "      <th>Proficient</th>\n",
       "      <td>0.722</td>\n",
       "      <td>0.729554</td>\n",
       "      <td>1.000</td>\n",
       "      <td>0.4900</td>\n",
       "      <td>0.521208</td>\n",
       "      <td>0.990</td>\n",
       "      <td>0.699735</td>\n",
       "      <td>0.703604</td>\n",
       "      <td>1.101227</td>\n",
       "    </tr>\n",
       "    <tr>\n",
       "      <th>Underdeveloped</th>\n",
       "      <td>0.554</td>\n",
       "      <td>0.549667</td>\n",
       "      <td>0.624</td>\n",
       "      <td>0.3715</td>\n",
       "      <td>0.350167</td>\n",
       "      <td>0.465</td>\n",
       "      <td>0.712859</td>\n",
       "      <td>0.631451</td>\n",
       "      <td>0.756567</td>\n",
       "    </tr>\n",
       "    <tr>\n",
       "      <th>Underdeveloped with Proficient Features (only an option in 2007-8, 2008-9 and 2009-10)</th>\n",
       "      <td>NaN</td>\n",
       "      <td>NaN</td>\n",
       "      <td>NaN</td>\n",
       "      <td>NaN</td>\n",
       "      <td>NaN</td>\n",
       "      <td>NaN</td>\n",
       "      <td>NaN</td>\n",
       "      <td>NaN</td>\n",
       "      <td>NaN</td>\n",
       "    </tr>\n",
       "    <tr>\n",
       "      <th>Well Developed</th>\n",
       "      <td>0.833</td>\n",
       "      <td>0.823367</td>\n",
       "      <td>1.000</td>\n",
       "      <td>0.5920</td>\n",
       "      <td>0.625871</td>\n",
       "      <td>1.000</td>\n",
       "      <td>0.765269</td>\n",
       "      <td>0.752696</td>\n",
       "      <td>1.051422</td>\n",
       "    </tr>\n",
       "  </tbody>\n",
       "</table>\n",
       "</div>"
      ],
      "text/plain": [
       "                                                   graduation 2010-11  \\\n",
       "                                                               median   \n",
       "Quality_Review_Score                                                    \n",
       "Developing                                                      0.615   \n",
       "Outstanding (only an option in 2007-8)                          0.811   \n",
       "Proficient                                                      0.722   \n",
       "Underdeveloped                                                  0.554   \n",
       "Underdeveloped with Proficient Features (only a...                NaN   \n",
       "Well Developed                                                  0.833   \n",
       "\n",
       "                                                                     \\\n",
       "                                                        mean    max   \n",
       "Quality_Review_Score                                                  \n",
       "Developing                                          0.633019  0.947   \n",
       "Outstanding (only an option in 2007-8)              0.864333  0.982   \n",
       "Proficient                                          0.729554  1.000   \n",
       "Underdeveloped                                      0.549667  0.624   \n",
       "Underdeveloped with Proficient Features (only a...       NaN    NaN   \n",
       "Well Developed                                      0.823367  1.000   \n",
       "\n",
       "                                                   college enroll 2010-11  \\\n",
       "                                                                   median   \n",
       "Quality_Review_Score                                                        \n",
       "Developing                                                         0.4030   \n",
       "Outstanding (only an option in 2007-8)                             0.6920   \n",
       "Proficient                                                         0.4900   \n",
       "Underdeveloped                                                     0.3715   \n",
       "Underdeveloped with Proficient Features (only a...                    NaN   \n",
       "Well Developed                                                     0.5920   \n",
       "\n",
       "                                                                     \\\n",
       "                                                        mean    max   \n",
       "Quality_Review_Score                                                  \n",
       "Developing                                          0.402830  0.658   \n",
       "Outstanding (only an option in 2007-8)              0.747667  0.861   \n",
       "Proficient                                          0.521208  0.990   \n",
       "Underdeveloped                                      0.350167  0.465   \n",
       "Underdeveloped with Proficient Features (only a...       NaN    NaN   \n",
       "Well Developed                                      0.625871  1.000   \n",
       "\n",
       "                                                   CollegeRate            \\\n",
       "                                                        median      mean   \n",
       "Quality_Review_Score                                                       \n",
       "Developing                                            0.647416  0.641309   \n",
       "Outstanding (only an option in 2007-8)                0.862500  0.864183   \n",
       "Proficient                                            0.699735  0.703604   \n",
       "Underdeveloped                                        0.712859  0.631451   \n",
       "Underdeveloped with Proficient Features (only a...         NaN       NaN   \n",
       "Well Developed                                        0.765269  0.752696   \n",
       "\n",
       "                                                              \n",
       "                                                         max  \n",
       "Quality_Review_Score                                          \n",
       "Developing                                          1.048622  \n",
       "Outstanding (only an option in 2007-8)              0.876782  \n",
       "Proficient                                          1.101227  \n",
       "Underdeveloped                                      0.756567  \n",
       "Underdeveloped with Proficient Features (only a...       NaN  \n",
       "Well Developed                                      1.051422  "
      ]
     },
     "execution_count": 62,
     "metadata": {},
     "output_type": "execute_result"
    }
   ],
   "source": [
    "ICEdata.groupby('Quality_Review_Score').aggregate(['median', 'mean', 'max'])"
   ]
  },
  {
   "cell_type": "code",
   "execution_count": 63,
   "id": "0d2ab4cc",
   "metadata": {},
   "outputs": [
    {
     "data": {
      "text/html": [
       "<div>\n",
       "<style scoped>\n",
       "    .dataframe tbody tr th:only-of-type {\n",
       "        vertical-align: middle;\n",
       "    }\n",
       "\n",
       "    .dataframe tbody tr th {\n",
       "        vertical-align: top;\n",
       "    }\n",
       "\n",
       "    .dataframe thead th {\n",
       "        text-align: right;\n",
       "    }\n",
       "</style>\n",
       "<table border=\"1\" class=\"dataframe\">\n",
       "  <thead>\n",
       "    <tr style=\"text-align: right;\">\n",
       "      <th>Progress_Rpt_10-11</th>\n",
       "      <th>A</th>\n",
       "      <th>B</th>\n",
       "      <th>C</th>\n",
       "      <th>D</th>\n",
       "      <th>F</th>\n",
       "    </tr>\n",
       "    <tr>\n",
       "      <th>Quality_Review_Score</th>\n",
       "      <th></th>\n",
       "      <th></th>\n",
       "      <th></th>\n",
       "      <th></th>\n",
       "      <th></th>\n",
       "    </tr>\n",
       "  </thead>\n",
       "  <tbody>\n",
       "    <tr>\n",
       "      <th>Developing</th>\n",
       "      <td>0.716500</td>\n",
       "      <td>0.654545</td>\n",
       "      <td>0.639474</td>\n",
       "      <td>0.613812</td>\n",
       "      <td>0.504333</td>\n",
       "    </tr>\n",
       "    <tr>\n",
       "      <th>Outstanding (only an option in 2007-8)</th>\n",
       "      <td>0.864333</td>\n",
       "      <td>NaN</td>\n",
       "      <td>NaN</td>\n",
       "      <td>NaN</td>\n",
       "      <td>NaN</td>\n",
       "    </tr>\n",
       "    <tr>\n",
       "      <th>Proficient</th>\n",
       "      <td>0.817083</td>\n",
       "      <td>0.722077</td>\n",
       "      <td>0.660333</td>\n",
       "      <td>0.526400</td>\n",
       "      <td>NaN</td>\n",
       "    </tr>\n",
       "    <tr>\n",
       "      <th>Underdeveloped</th>\n",
       "      <td>NaN</td>\n",
       "      <td>NaN</td>\n",
       "      <td>0.556333</td>\n",
       "      <td>0.457000</td>\n",
       "      <td>0.586000</td>\n",
       "    </tr>\n",
       "    <tr>\n",
       "      <th>Well Developed</th>\n",
       "      <td>0.862472</td>\n",
       "      <td>0.791000</td>\n",
       "      <td>0.711455</td>\n",
       "      <td>NaN</td>\n",
       "      <td>NaN</td>\n",
       "    </tr>\n",
       "  </tbody>\n",
       "</table>\n",
       "</div>"
      ],
      "text/plain": [
       "Progress_Rpt_10-11                             A         B         C  \\\n",
       "Quality_Review_Score                                                   \n",
       "Developing                              0.716500  0.654545  0.639474   \n",
       "Outstanding (only an option in 2007-8)  0.864333       NaN       NaN   \n",
       "Proficient                              0.817083  0.722077  0.660333   \n",
       "Underdeveloped                               NaN       NaN  0.556333   \n",
       "Well Developed                          0.862472  0.791000  0.711455   \n",
       "\n",
       "Progress_Rpt_10-11                             D         F  \n",
       "Quality_Review_Score                                        \n",
       "Developing                              0.613812  0.504333  \n",
       "Outstanding (only an option in 2007-8)       NaN       NaN  \n",
       "Proficient                              0.526400       NaN  \n",
       "Underdeveloped                          0.457000  0.586000  \n",
       "Well Developed                               NaN       NaN  "
      ]
     },
     "execution_count": 63,
     "metadata": {},
     "output_type": "execute_result"
    }
   ],
   "source": [
    "ICEdata.groupby(['Quality_Review_Score', 'Progress_Rpt_10-11'])['graduation 2010-11'].aggregate('mean').unstack()\n",
    "\n",
    "#request the median data of graduation 2010-11 for Quality_Review_Score, Progress_Rpt_10-11: (!!!)"
   ]
  },
  {
   "cell_type": "markdown",
   "id": "7dec4389",
   "metadata": {},
   "source": [
    "Pivottable can succintly handle muti-dimensional aggragation: "
   ]
  },
  {
   "cell_type": "code",
   "execution_count": 64,
   "id": "879fc243",
   "metadata": {},
   "outputs": [
    {
     "data": {
      "text/html": [
       "<div>\n",
       "<style scoped>\n",
       "    .dataframe tbody tr th:only-of-type {\n",
       "        vertical-align: middle;\n",
       "    }\n",
       "\n",
       "    .dataframe tbody tr th {\n",
       "        vertical-align: top;\n",
       "    }\n",
       "\n",
       "    .dataframe thead th {\n",
       "        text-align: right;\n",
       "    }\n",
       "</style>\n",
       "<table border=\"1\" class=\"dataframe\">\n",
       "  <thead>\n",
       "    <tr style=\"text-align: right;\">\n",
       "      <th>Progress_Rpt_10-11</th>\n",
       "      <th>A</th>\n",
       "      <th>B</th>\n",
       "      <th>C</th>\n",
       "      <th>D</th>\n",
       "      <th>F</th>\n",
       "    </tr>\n",
       "    <tr>\n",
       "      <th>Quality_Review_Score</th>\n",
       "      <th></th>\n",
       "      <th></th>\n",
       "      <th></th>\n",
       "      <th></th>\n",
       "      <th></th>\n",
       "    </tr>\n",
       "  </thead>\n",
       "  <tbody>\n",
       "    <tr>\n",
       "      <th>Developing</th>\n",
       "      <td>0.716500</td>\n",
       "      <td>0.654545</td>\n",
       "      <td>0.639474</td>\n",
       "      <td>0.613812</td>\n",
       "      <td>0.504333</td>\n",
       "    </tr>\n",
       "    <tr>\n",
       "      <th>Outstanding (only an option in 2007-8)</th>\n",
       "      <td>0.864333</td>\n",
       "      <td>NaN</td>\n",
       "      <td>NaN</td>\n",
       "      <td>NaN</td>\n",
       "      <td>NaN</td>\n",
       "    </tr>\n",
       "    <tr>\n",
       "      <th>Proficient</th>\n",
       "      <td>0.817083</td>\n",
       "      <td>0.722077</td>\n",
       "      <td>0.660333</td>\n",
       "      <td>0.526400</td>\n",
       "      <td>NaN</td>\n",
       "    </tr>\n",
       "    <tr>\n",
       "      <th>Underdeveloped</th>\n",
       "      <td>NaN</td>\n",
       "      <td>NaN</td>\n",
       "      <td>0.556333</td>\n",
       "      <td>0.457000</td>\n",
       "      <td>0.586000</td>\n",
       "    </tr>\n",
       "    <tr>\n",
       "      <th>Well Developed</th>\n",
       "      <td>0.862472</td>\n",
       "      <td>0.791000</td>\n",
       "      <td>0.711455</td>\n",
       "      <td>NaN</td>\n",
       "      <td>NaN</td>\n",
       "    </tr>\n",
       "  </tbody>\n",
       "</table>\n",
       "</div>"
      ],
      "text/plain": [
       "Progress_Rpt_10-11                             A         B         C  \\\n",
       "Quality_Review_Score                                                   \n",
       "Developing                              0.716500  0.654545  0.639474   \n",
       "Outstanding (only an option in 2007-8)  0.864333       NaN       NaN   \n",
       "Proficient                              0.817083  0.722077  0.660333   \n",
       "Underdeveloped                               NaN       NaN  0.556333   \n",
       "Well Developed                          0.862472  0.791000  0.711455   \n",
       "\n",
       "Progress_Rpt_10-11                             D         F  \n",
       "Quality_Review_Score                                        \n",
       "Developing                              0.613812  0.504333  \n",
       "Outstanding (only an option in 2007-8)       NaN       NaN  \n",
       "Proficient                              0.526400       NaN  \n",
       "Underdeveloped                          0.457000  0.586000  \n",
       "Well Developed                               NaN       NaN  "
      ]
     },
     "execution_count": 64,
     "metadata": {},
     "output_type": "execute_result"
    }
   ],
   "source": [
    "ICEdata.pivot_table('graduation 2010-11', index = 'Quality_Review_Score', columns = \"Progress_Rpt_10-11\")"
   ]
  },
  {
   "cell_type": "markdown",
   "id": "a420fb36",
   "metadata": {},
   "source": [
    "By default, pivot table will show mean. If you want to change, you can use aggfunc to change. "
   ]
  },
  {
   "cell_type": "code",
   "execution_count": 65,
   "id": "7730ced9",
   "metadata": {},
   "outputs": [
    {
     "data": {
      "text/html": [
       "<div>\n",
       "<style scoped>\n",
       "    .dataframe tbody tr th:only-of-type {\n",
       "        vertical-align: middle;\n",
       "    }\n",
       "\n",
       "    .dataframe tbody tr th {\n",
       "        vertical-align: top;\n",
       "    }\n",
       "\n",
       "    .dataframe thead th {\n",
       "        text-align: right;\n",
       "    }\n",
       "</style>\n",
       "<table border=\"1\" class=\"dataframe\">\n",
       "  <thead>\n",
       "    <tr style=\"text-align: right;\">\n",
       "      <th>Progress_Rpt_10-11</th>\n",
       "      <th>A</th>\n",
       "      <th>B</th>\n",
       "      <th>C</th>\n",
       "      <th>D</th>\n",
       "      <th>F</th>\n",
       "    </tr>\n",
       "    <tr>\n",
       "      <th>Quality_Review_Score</th>\n",
       "      <th></th>\n",
       "      <th></th>\n",
       "      <th></th>\n",
       "      <th></th>\n",
       "      <th></th>\n",
       "    </tr>\n",
       "  </thead>\n",
       "  <tbody>\n",
       "    <tr>\n",
       "      <th>Developing</th>\n",
       "      <td>0.702</td>\n",
       "      <td>0.6290</td>\n",
       "      <td>0.587</td>\n",
       "      <td>0.615</td>\n",
       "      <td>0.506</td>\n",
       "    </tr>\n",
       "    <tr>\n",
       "      <th>Outstanding (only an option in 2007-8)</th>\n",
       "      <td>0.811</td>\n",
       "      <td>NaN</td>\n",
       "      <td>NaN</td>\n",
       "      <td>NaN</td>\n",
       "      <td>NaN</td>\n",
       "    </tr>\n",
       "    <tr>\n",
       "      <th>Proficient</th>\n",
       "      <td>0.806</td>\n",
       "      <td>0.7150</td>\n",
       "      <td>0.662</td>\n",
       "      <td>0.531</td>\n",
       "      <td>NaN</td>\n",
       "    </tr>\n",
       "    <tr>\n",
       "      <th>Underdeveloped</th>\n",
       "      <td>NaN</td>\n",
       "      <td>NaN</td>\n",
       "      <td>0.537</td>\n",
       "      <td>0.457</td>\n",
       "      <td>0.586</td>\n",
       "    </tr>\n",
       "    <tr>\n",
       "      <th>Well Developed</th>\n",
       "      <td>0.879</td>\n",
       "      <td>0.8145</td>\n",
       "      <td>0.676</td>\n",
       "      <td>NaN</td>\n",
       "      <td>NaN</td>\n",
       "    </tr>\n",
       "  </tbody>\n",
       "</table>\n",
       "</div>"
      ],
      "text/plain": [
       "Progress_Rpt_10-11                          A       B      C      D      F\n",
       "Quality_Review_Score                                                      \n",
       "Developing                              0.702  0.6290  0.587  0.615  0.506\n",
       "Outstanding (only an option in 2007-8)  0.811     NaN    NaN    NaN    NaN\n",
       "Proficient                              0.806  0.7150  0.662  0.531    NaN\n",
       "Underdeveloped                            NaN     NaN  0.537  0.457  0.586\n",
       "Well Developed                          0.879  0.8145  0.676    NaN    NaN"
      ]
     },
     "execution_count": 65,
     "metadata": {},
     "output_type": "execute_result"
    }
   ],
   "source": [
    "ICEdata.pivot_table('graduation 2010-11', index = 'Quality_Review_Score', columns = \"Progress_Rpt_10-11\", \n",
    "                   aggfunc = 'median')"
   ]
  },
  {
   "cell_type": "code",
   "execution_count": null,
   "id": "db7da2a7",
   "metadata": {},
   "outputs": [],
   "source": []
  }
 ],
 "metadata": {
  "kernelspec": {
   "display_name": "Python 3",
   "language": "python",
   "name": "python3"
  },
  "language_info": {
   "codemirror_mode": {
    "name": "ipython",
    "version": 3
   },
   "file_extension": ".py",
   "mimetype": "text/x-python",
   "name": "python",
   "nbconvert_exporter": "python",
   "pygments_lexer": "ipython3",
   "version": "3.8.8"
  }
 },
 "nbformat": 4,
 "nbformat_minor": 5
}
